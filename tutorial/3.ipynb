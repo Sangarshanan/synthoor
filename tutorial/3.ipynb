{
 "cells": [
  {
   "cell_type": "code",
   "execution_count": null,
   "id": "3c451886-d01b-4f4b-bdc8-17f501c82d26",
   "metadata": {},
   "outputs": [],
   "source": [
    "import numpy as np\n",
    "import IPython.display as ipd\n",
    "import matplotlib.pyplot as plt\n",
    "from utils import sample_rate, sample_space, phase_from_frequency, duration"
   ]
  },
  {
   "cell_type": "markdown",
   "id": "14d80b3a-27f3-441c-a5e1-3222c5ff2a54",
   "metadata": {},
   "source": [
    "# Shaping the Sound\n",
    "\n",
    "We earlier discussed modulation on the whole wave but to shape a wave we need to Modulate it with time and shape the sound exactly as we need it. We do that with **Envelopes**\n",
    "\n",
    "An envelope is a term used to describe the evolution of a sound in a piece of music, the most common envelope generator is controlled with four parameters: attack, decay, sustain and release (ADSR).\n",
    "\n",
    "\n",
    "\n",
    "<img src=\"https://blog.landr.com/_next/image/?url=https%3A%2F%2Fblog-api.landr.com%2Fwp-content%2Fuploads%2F2016%2F10%2FASDR-01.jpg&w=1440&q=75\" alt=\"ADSR Envelope\" width=\"800\" height=\"auto\">\n",
    "\n",
    "\n"
   ]
  },
  {
   "cell_type": "code",
   "execution_count": null,
   "id": "0b330e78-987e-42ce-b207-ec59e1c966c4",
   "metadata": {},
   "outputs": [],
   "source": [
    "amplitude = 1\n",
    "frequency = 400\n",
    "original_wave = amplitude * np.sin(phase_from_frequency(frequency, sample_space))\n",
    "plt.plot(sample_space[:1000], original_wave[:1000])"
   ]
  },
  {
   "cell_type": "code",
   "execution_count": null,
   "id": "0d6afade-377f-49dd-a5bd-9413eb53c125",
   "metadata": {},
   "outputs": [],
   "source": [
    "ipd.Audio(original_wave, rate=sample_rate)"
   ]
  },
  {
   "cell_type": "code",
   "execution_count": null,
   "id": "aeba15de-0103-4cbe-a29b-4c1d6a64570f",
   "metadata": {},
   "outputs": [],
   "source": [
    "total_samples = len(original_wave)\n",
    "envelope = np.zeros(total_samples)\n",
    "envelope"
   ]
  },
  {
   "cell_type": "markdown",
   "id": "3e77ee51-95b9-47e5-a80c-419a5ceb2e64",
   "metadata": {},
   "source": [
    "**Attack**"
   ]
  },
  {
   "cell_type": "code",
   "execution_count": null,
   "id": "ae5bd82c-6a3e-4095-8462-e5f2413d515a",
   "metadata": {},
   "outputs": [],
   "source": [
    "ATTACK_TIME = 0.4 # seconds\n",
    "\n",
    "# Calculate the number of attack samples\n",
    "attack_samples = int(ATTACK_TIME * sample_rate)\n",
    "\n",
    "# Ramp up frpm 0 to 1 for attack_samples\n",
    "envelope[0:attack_samples] = np.linspace(0, 1, attack_samples)\n",
    "plt.plot(sample_space, envelope)"
   ]
  },
  {
   "cell_type": "markdown",
   "id": "0b3107c4-d6f2-4eb1-b9eb-2e832b4b9f23",
   "metadata": {},
   "source": [
    "**Decay**"
   ]
  },
  {
   "cell_type": "code",
   "execution_count": null,
   "id": "e9b235ee-28dc-4c5b-b18e-7d2baad45364",
   "metadata": {},
   "outputs": [],
   "source": [
    "DECAY_TIME = 0.25 # seconds\n",
    "SUSTAIN_LEVEL = 0.6 # Amplitude level (0.0 to 1.0)\n",
    "\n",
    "# Number of decay samples\n",
    "decay_samples = int(DECAY_TIME * sample_rate)\n",
    "\n",
    "# Include attack to get the total number of samples till decay ends\n",
    "decay_end_sample =  attack_samples + decay_samples\n",
    "\n",
    "# Calculate actual number of samples available for decay\n",
    "number_of_decay_samples = decay_end_sample - attack_samples\n",
    "\n",
    "envelope[attack_samples:decay_end_sample] = np.linspace(1, SUSTAIN_LEVEL, number_of_decay_samples)\n",
    "\n",
    "plt.plot(sample_space, envelope)"
   ]
  },
  {
   "cell_type": "markdown",
   "id": "36e7e2eb-a2d7-4469-a5a0-41ba2185afc7",
   "metadata": {},
   "source": [
    "**Sustain**"
   ]
  },
  {
   "cell_type": "code",
   "execution_count": null,
   "id": "ff7295c2-e223-42d8-9b02-b54ae310bd9d",
   "metadata": {},
   "outputs": [],
   "source": [
    "RELEASE_TIME = 0.4 # seconds\n",
    "\n",
    "# Number of Release samples\n",
    "release_samples = int(RELEASE_TIME * sample_rate)\n",
    "\n",
    "# Start of Release sample\n",
    "release_start_sample = total_samples - release_samples\n",
    "\n",
    "# Fill the sustain part with the constant SUSTAIN_LEVEL\n",
    "envelope[decay_end_sample:release_start_sample] = SUSTAIN_LEVEL\n",
    "\n",
    "plt.plot(sample_space, envelope)"
   ]
  },
  {
   "cell_type": "markdown",
   "id": "a2f4cbed-d275-4ca9-ba05-ce1244d99f9f",
   "metadata": {},
   "source": [
    "**Release**"
   ]
  },
  {
   "cell_type": "code",
   "execution_count": null,
   "id": "9545f7af-07f7-43e3-ac5d-3d09be4bfe50",
   "metadata": {},
   "outputs": [],
   "source": [
    "# Start Index of Release sample\n",
    "release_start_sample = total_samples - release_samples\n",
    "\n",
    "# Number of Release Samples\n",
    "number_of_release_samples = total_samples - release_start_sample\n",
    "\n",
    "level_before_release = envelope[release_start_sample - 1]\n",
    "\n",
    "# Ramp down to 0 in release_samples\n",
    "envelope[release_start_sample:total_samples] = np.linspace(level_before_release, 0, number_of_release_samples)\n",
    "\n",
    "plt.plot(sample_space, envelope)"
   ]
  },
  {
   "cell_type": "markdown",
   "id": "49e80d7a-b652-4d29-8e81-765bfc9a7d57",
   "metadata": {},
   "source": [
    "### [E] Implement Envelope Class"
   ]
  },
  {
   "cell_type": "code",
   "execution_count": null,
   "id": "d2370ee9-ec6d-47eb-b4c7-a3734d21769d",
   "metadata": {},
   "outputs": [],
   "source": [
    "# class Envelope:\n",
    "    "
   ]
  },
  {
   "cell_type": "code",
   "execution_count": null,
   "id": "e961015a-e661-4767-adbc-63e706b51c88",
   "metadata": {},
   "outputs": [],
   "source": [
    "amplitude = 0.9\n",
    "frequency = 400\n",
    "original_wave = amplitude * np.sin(phase_from_frequency(frequency, sample_space))\n",
    "ipd.Audio(original_wave, rate=sample_rate)"
   ]
  },
  {
   "cell_type": "code",
   "execution_count": null,
   "id": "1bd9fa84-feb2-426f-8947-ed663b1a6ad8",
   "metadata": {},
   "outputs": [],
   "source": [
    "# Define ADSR parameters (ensure total time fits reasonably within 'duration')\n",
    "attack_t = 0.4   # seconds\n",
    "decay_t = 0.2    # seconds\n",
    "sustain_l = 0.6  # level (60% of peak amplitude)\n",
    "release_t = 0.5  # seconds\n",
    "\n",
    "# Create an Envelope instance\n",
    "adsr_envelope = Envelope(\n",
    "    attack_time=attack_t,\n",
    "    decay_time=decay_t,\n",
    "    sustain_level=sustain_l,\n",
    "    release_time=release_t,\n",
    ")"
   ]
  },
  {
   "cell_type": "code",
   "execution_count": null,
   "id": "cbfe4ca3-488d-461b-82b2-4b03628d8d26",
   "metadata": {},
   "outputs": [],
   "source": [
    "shaped_wave, envelope_shape = adsr_envelope.apply(original_wave)\n",
    "ipd.Audio(shaped_wave, rate=sample_rate)"
   ]
  },
  {
   "cell_type": "code",
   "execution_count": null,
   "id": "b5bd87cc-9471-48a4-9a97-15a66095d712",
   "metadata": {},
   "outputs": [],
   "source": []
  },
  {
   "cell_type": "code",
   "execution_count": null,
   "id": "829a43bc-f87e-47a1-8642-75cee45fa8e6",
   "metadata": {},
   "outputs": [],
   "source": []
  },
  {
   "cell_type": "code",
   "execution_count": null,
   "id": "00ccfcfc-1e16-4caf-915c-e16b1b923398",
   "metadata": {},
   "outputs": [],
   "source": []
  },
  {
   "cell_type": "code",
   "execution_count": null,
   "id": "bf9375b4-b9ff-44f8-b5b9-4c2e3749c3cf",
   "metadata": {},
   "outputs": [],
   "source": [
    "fig, axs = plt.subplots(3, 1, figsize=(12, 8), sharex=True) # Share X axis (time)\n",
    "\n",
    "# Plot 1: Original Wave\n",
    "axs[0].plot(sample_space, original_wave, label=f'{frequency} Hz Sine Wave')\n",
    "axs[0].set_title('Original Waveform')\n",
    "axs[0].set_ylabel('Amplitude')\n",
    "axs[0].grid(True, linestyle=':')\n",
    "axs[0].legend()\n",
    "axs[0].axhline(0, color='grey', linewidth=0.5) # Zero line\n",
    "\n",
    "# Plot 2: ADSR Envelope Shape\n",
    "axs[1].plot(sample_space, envelope_shape, label='ADSR Envelope Shape', color='orange')\n",
    "axs[1].set_title('ADSR Envelope')\n",
    "axs[1].set_ylabel('Multiplier')\n",
    "axs[1].grid(True, linestyle=':')\n",
    "axs[1].legend()\n",
    "axs[1].set_ylim(-0.1, 1.1) # Set Y limits for clarity\n",
    "\n",
    "# Add vertical lines indicating phase changes on the envelope plot\n",
    "total_samples = len(original_wave)\n",
    "attack_samples = attack_t * sample_rate\n",
    "decay_samples = decay_t * sample_rate\n",
    "release_samples = release_t * sample_rate\n",
    "\n",
    "attack_end_time = attack_samples / sample_rate\n",
    "decay_end_time = (attack_samples + decay_samples) / sample_rate\n",
    "release_start_time = (total_samples - release_samples) / sample_rate\n",
    "release_start_time = max(decay_end_time, release_start_time) # Ensure release doesn't start before decay ends\n",
    "\n",
    "axs[1].axvline(attack_end_time, color='r', linestyle='--', linewidth=1, label=f'Attack End ({attack_t:.2f}s)')\n",
    "axs[1].axvline(decay_end_time, color='g', linestyle='--', linewidth=1, label=f'Decay End ({attack_t+decay_t:.2f}s)')\n",
    "# Only show release line if it's distinct from decay end\n",
    "if release_start_time > decay_end_time + (1/sample_rate): # Add small tolerance\n",
    "     axs[1].axvline(release_start_time, color='b', linestyle='--', linewidth=1, label=f'Release Start ({release_start_time:.2f}s)')\n",
    "axs[1].legend(fontsize='small')\n",
    "\n",
    "\n",
    "# Plot 3: Shaped Wave\n",
    "axs[2].plot(sample_space, shaped_wave, label='Shaped Waveform', color='green')\n",
    "axs[2].set_title('Waveform Shaped by ADSR Envelope')\n",
    "axs[2].set_xlabel('Time (seconds)')\n",
    "axs[2].set_ylabel('Amplitude')\n",
    "axs[2].grid(True, linestyle=':')\n",
    "axs[2].legend()\n",
    "axs[2].axhline(0, color='grey', linewidth=0.5) # Zero line\n",
    "\n",
    "# Adjust layout and display\n",
    "plt.tight_layout()\n",
    "plt.show()"
   ]
  },
  {
   "cell_type": "markdown",
   "id": "c36ea268-638e-4e2f-b41c-77d20957f076",
   "metadata": {},
   "source": [
    "**[E] Sanity check for ASDR values**"
   ]
  },
  {
   "cell_type": "code",
   "execution_count": null,
   "id": "dc736610-5404-4876-a0d2-636fd9f2f28e",
   "metadata": {},
   "outputs": [],
   "source": []
  },
  {
   "cell_type": "code",
   "execution_count": null,
   "id": "f48e880c-3561-4c1a-a40e-a275923b6330",
   "metadata": {},
   "outputs": [],
   "source": []
  },
  {
   "cell_type": "markdown",
   "id": "0430acb7-b04f-4a7c-9354-c6480af7fde2",
   "metadata": {},
   "source": [
    "**[E] Max Volume right after the Attack finishes and hold it there until the Release phase begins**"
   ]
  },
  {
   "cell_type": "code",
   "execution_count": null,
   "id": "1497a7a0-8a26-4e86-92af-c956d847208f",
   "metadata": {},
   "outputs": [],
   "source": []
  },
  {
   "cell_type": "code",
   "execution_count": null,
   "id": "717ca214-9be6-4983-820a-54a98043ef0c",
   "metadata": {},
   "outputs": [],
   "source": []
  },
  {
   "cell_type": "code",
   "execution_count": null,
   "id": "5d8a7a59-c927-4b29-94bc-d1e06b55766b",
   "metadata": {},
   "outputs": [],
   "source": []
  },
  {
   "cell_type": "markdown",
   "id": "017bcb87-0034-4d71-a096-094d7409d472",
   "metadata": {},
   "source": [
    "### Exponential Envelopes\n",
    "\n",
    "```\n",
    "Normalized curve from 0 to 1: (1 - exp(-shape * t)) / (1 - exp(-shape))\n",
    "```\n",
    "\n",
    "This formula ensures the curve starts at 0 (for t=0) and ends at 1 (for t=1)."
   ]
  },
  {
   "cell_type": "code",
   "execution_count": null,
   "id": "08c3f8a3-c900-477b-9ccf-5e069c389931",
   "metadata": {},
   "outputs": [],
   "source": [
    "total_samples = len(original_wave)\n",
    "envelope_ex = np.zeros(total_samples)"
   ]
  },
  {
   "cell_type": "code",
   "execution_count": null,
   "id": "f8ba71ba-b3b2-4d14-885e-cd5e73f0d2e8",
   "metadata": {},
   "outputs": [],
   "source": [
    "def _generate_exponential_segment(start_val, end_val, num_samples, shape_param):\n",
    "    \"\"\"\n",
    "    Generates an exponential segment.\n",
    "    - start_val: The starting value of the segment.\n",
    "    - end_val: The ending value of the segment.\n",
    "    - num_samples: The number of samples in the segment.\n",
    "    - shape_param: Controls the curve.\n",
    "        - shape_param = 0: Linear segment.\n",
    "        - shape_param > 0: Exponential curve (e.g., concave for attack 0 to 1,\n",
    "                           convex for decay 1 to S). Steeper initial change for larger values.\n",
    "        - shape_param < 0: Exponential curve with opposite curvature.\n",
    "    \"\"\"\n",
    "    # Normalized time 't' from 0 to 1\n",
    "    t = np.linspace(0, 1, num_samples)\n",
    "\n",
    "    if np.isclose(shape_param, 0):\n",
    "         # Linear case\n",
    "        segment = np.linspace(start_val, end_val, num_samples)\n",
    "\n",
    "    else:\n",
    "        # Exponential case\n",
    "        denominator = 1.0 - np.exp(-shape_param)\n",
    "        normalized_curve = (1.0 - np.exp(-shape_param * t)) / denominator\n",
    "        segment = start_val + (end_val - start_val) * normalized_curve\n",
    "\n",
    "    return segment"
   ]
  },
  {
   "cell_type": "code",
   "execution_count": null,
   "id": "9fd04571-5b76-408e-8fbc-e60157e383df",
   "metadata": {},
   "outputs": [],
   "source": [
    "attack_shape = 5  # Try values like 1.0 (gentle curve) to 10.0 (sharp curve). 0 is linear.\n",
    "attack_time_exponential = 0.4 # seconds\n",
    "attack_samples_ex = int(attack_time_exponential * sample_rate)\n",
    "\n",
    "\n",
    "envelope_ex[0:attack_samples_ex] = _generate_exponential_segment(\n",
    "    0.0, 1.0, attack_samples_ex, attack_shape\n",
    ")\n",
    "plt.plot(sample_space, envelope_ex)"
   ]
  },
  {
   "cell_type": "markdown",
   "id": "9afde4e2-957c-4a21-8515-8d67f6690183",
   "metadata": {},
   "source": [
    "### Other Envelopes\n",
    "\n",
    "Electronic instruments can use regular or inverted ADSR envelopes to shape sound over time. Inverted envelopes reverse normal behavior: attack fades down instead of up, decay rises instead of falls.\n",
    "\n",
    "Some instruments (like Korg MS-20) add extra controls like \"hold\" which is how long the envelope stays at full volume before entering the decay phase.\n",
    "\n",
    "![hold](https://theproaudiofiles.com/wp-content/uploads/2017/07/Screen-Shot-2017-07-05-at-4.25.33-PM.png)\n",
    "\n",
    "Modern synthesizers like Prophet'08 and Modern DAWs also allow for a delay parameter before the attack i.e DAHDSR (delay, attack, hold, decay, sustain, release) envelopes.\n",
    "\n",
    "\n",
    "> 8-step envelope on Casio CZ series\n",
    "\n",
    "![alt](https://upload.wikimedia.org/wikipedia/commons/c/c1/Casio_CZ_8stepENVchart_%28CZ-1%29.jpg)\n",
    "\n",
    "**[E] Implement Variations: Add Delay and Hold to the Envelope Module**\n"
   ]
  },
  {
   "cell_type": "code",
   "execution_count": null,
   "id": "f78856ac-d070-4151-9c69-eec098d3a722",
   "metadata": {},
   "outputs": [],
   "source": []
  },
  {
   "cell_type": "code",
   "execution_count": null,
   "id": "5556bb82-9c41-4ee6-867f-e756124b06af",
   "metadata": {},
   "outputs": [],
   "source": []
  }
 ],
 "metadata": {
  "kernelspec": {
   "display_name": "Python 3 (ipykernel)",
   "language": "python",
   "name": "python3"
  },
  "language_info": {
   "codemirror_mode": {
    "name": "ipython",
    "version": 3
   },
   "file_extension": ".py",
   "mimetype": "text/x-python",
   "name": "python",
   "nbconvert_exporter": "python",
   "pygments_lexer": "ipython3",
   "version": "3.11.11"
  }
 },
 "nbformat": 4,
 "nbformat_minor": 5
}
