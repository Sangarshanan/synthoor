{
 "cells": [
  {
   "cell_type": "code",
   "execution_count": null,
   "id": "8d56436e-cf05-4742-a12e-5d8a3496e540",
   "metadata": {},
   "outputs": [],
   "source": [
    "import numpy as np\n",
    "import IPython.display as ipd\n",
    "import matplotlib.pyplot as plt\n",
    "from utils import phase_from_frequency, sample_space, sample_rate"
   ]
  },
  {
   "cell_type": "markdown",
   "id": "d5bd0644-db47-4bb6-b035-d4f6615b1b0d",
   "metadata": {},
   "source": [
    "## Altering the Sounds\n",
    "\n",
    "Now that we know how to create sounds, lets look at the ways we can alter or modify these sounds\n",
    "\n",
    "#### Modulators\n",
    "Modulation means altering certain characteristics of a sound wave, typically the amplitude, frequency, or phase of an audio signal, using a modulating source. This modulating source, often referred to as a modulator, affects the parameters of a carrier waveform (usually another audio signal) to create more complex and rich sound textures. We also have a modulation index which is a measure of extent of modulation done on a carrier signal\n",
    "\n",
    "#### FM\n",
    "In frequency modulation, the frequency of a signal is changed to encode information. The receiver decodes this information. We widely use this in FM radio broadcasting.\n",
    "\n",
    "let's say you and I have a string where each of us holds one end. If I pull on it in a constant pattern, say one tug per second, that would be our frequency. Now in order to send information we agree of a certain code (i.e A is two tugs in a second, B is three, C is four, etc.) Now to send you a message via string, I tug the appropriate number of times per second, varying the frequency of my tugs to match our code. This is frequency modulation in simple terms.\n",
    "\n",
    "\n",
    "![text](https://cdn.prod.website-files.com/620d42e86cb8ec4d0839e59d/6230ec578c0e62f4b85ee667_61ca13728a684337b0f7598f_Waveform-for-frequency-modulation.jpeg)\n",
    "\n",
    "Why FM is Used for Radio Broadcasting\n",
    "\n",
    "- High Fidelity: Better audio quality than AM radio\n",
    "- Noise Resistance: Less affected by atmospheric and electrical interference\n",
    "- Stereo Capability: Supports stereo transmission while maintaining mono compatibility\n",
    "\n",
    "\n",
    "```\n",
    "FM signal: A_c * sin(ω_c * t + β * sin(ω_m * t))\n",
    "```\n"
   ]
  },
  {
   "cell_type": "code",
   "execution_count": null,
   "id": "59de443f-97e3-4c6c-86fd-1230da082b2c",
   "metadata": {},
   "outputs": [],
   "source": [
    "# Carrier signal\n",
    "carrier_freq = 400  # Hz\n",
    "carrier_amplitude = 1.0\n",
    "carrier_omega = phase_from_frequency(carrier_freq)\n",
    "carrier_signal = np.sin(carrier_omega)\n",
    "\n",
    "# Modulating signal\n",
    "modulating_freq = 50  # Hz\n",
    "modulating_omega = phase_from_frequency(modulating_freq)\n",
    "modulating_signal = np.sin(modulating_omega)\n",
    "\n",
    "modulation_index = 5  # Modulation depth/sensitivity (Controls the extent of frequency deviation)\n",
    "\n",
    "# Generate FM signal: sin(ω_c * t + β * sin(ω_m * t))\n",
    "fm_signal = carrier_amplitude * np.sin(carrier_omega + modulation_index * modulating_signal)"
   ]
  },
  {
   "cell_type": "code",
   "execution_count": null,
   "id": "2ed508da-3db6-4b0b-bbd1-583dd57ac2a3",
   "metadata": {},
   "outputs": [],
   "source": [
    "ipd.Audio(fm_signal, rate=sample_rate)"
   ]
  },
  {
   "cell_type": "code",
   "execution_count": null,
   "id": "f5cae77b-5e33-42c0-b69d-aa4404b5405c",
   "metadata": {},
   "outputs": [],
   "source": [
    "plt.figure(figsize=(12, 6))\n",
    "\n",
    "plt.subplot(3, 1, 1)\n",
    "plt.plot(sample_space[:10000], carrier_signal[:10000])\n",
    "plt.title('Carrier Signal')\n",
    "plt.xlabel('Time (s)')\n",
    "plt.ylabel('Amplitude')\n",
    "\n",
    "plt.subplot(3, 1, 2)\n",
    "plt.plot(sample_space[:10000], modulating_signal[:10000])\n",
    "plt.title('Modulating Signal')\n",
    "plt.xlabel('Time (s)')\n",
    "plt.ylabel('Amplitude')\n",
    "\n",
    "plt.subplot(3, 1, 3)\n",
    "plt.plot(sample_space[:10000], fm_signal[:10000])\n",
    "plt.title('Modulated Signal (Frequency Modulation)')\n",
    "plt.xlabel('Time (s)')\n",
    "plt.ylabel('Amplitude')\n",
    "\n",
    "plt.tight_layout()\n",
    "plt.show()"
   ]
  },
  {
   "cell_type": "markdown",
   "id": "91ade168-e8af-4018-aabe-8433cc3cd39a",
   "metadata": {},
   "source": [
    "### [E] AM\n",
    "In amplitude modulation, the amplitude of a carrier waveform is modulated by a separate modulating waveform. The modulating waveform affects the volume or amplitude of the carrier waveform, creating harmonic sidebands around the carrier frequency. When applied in a synthesizer, AM can produce metallic or bell-like sounds, and it's useful for creating a variety of tonal textures.\n",
    "\n",
    "```\n",
    "AM signal: A_c * (1 + β * sin(ω_m * t)) * sin(ω_c * t)\n",
    "```\n",
    "\n",
    "AM (Amplitude Modulation) is used when long-distance transmission is the priority and cost is a major factor. FM (Frequency Modulation) is used when superior audio quality and noise immunity are needed, even though it has a shorter transmission range and is more expensive"
   ]
  },
  {
   "cell_type": "code",
   "execution_count": null,
   "id": "f19daf87-25fd-4ffa-89cc-7d6f74ebbe46",
   "metadata": {},
   "outputs": [],
   "source": [
    "# Generate AM signal: A_c * (1 + μ * sin(ω_m * t)) * sin(ω_c * t)\n",
    "# where μ is the modulation depth (0-1)\n",
    "am_signal = carrier_amplitude * (1 + modulating_signal) * np.sin(carrier_omega)"
   ]
  },
  {
   "cell_type": "code",
   "execution_count": null,
   "id": "a2bcb3eb-e109-4cfb-9522-0e3957805eb1",
   "metadata": {},
   "outputs": [],
   "source": [
    "# ipd.Audio(am_signal, rate=sample_rate)"
   ]
  },
  {
   "cell_type": "code",
   "execution_count": null,
   "id": "bb6ff597-0daf-426f-9b47-b0edb959c75c",
   "metadata": {},
   "outputs": [],
   "source": []
  },
  {
   "cell_type": "markdown",
   "id": "b9d2935b-c2bf-4416-9fab-6494d83f4f0c",
   "metadata": {},
   "source": [
    "## Music and Modulation\n",
    "Modulation can be used to create very unique sounds and can allow changing of timbre and these harmonics would change depending on the kind of modulation and the signal used, In the end we can produce create more intricate and diverse sounds\n",
    "\n",
    "#### FM\n",
    "\n",
    "FM can be used with non-harmonic ratios between carrier and modulator frequencies to create characteristic bell-like sounds. Higher modulation indices produce more inharmonic overtones"
   ]
  },
  {
   "cell_type": "code",
   "execution_count": null,
   "id": "a9bcde7d-4ab8-4b67-acd1-b8ee46568748",
   "metadata": {},
   "outputs": [],
   "source": [
    "def create_fm_tone(carrier_freq, mod_freq, mod_index, amplitude=0.5, t=sample_space):\n",
    "    carrier_omega = phase_from_frequency(carrier_freq)\n",
    "    mod_omega = phase_from_frequency(mod_freq)\n",
    "    \n",
    "    # Pure FM synthesis: carrier + modulator\n",
    "    modulator = np.sin(mod_omega)\n",
    "    fm_signal = amplitude * np.sin(carrier_omega * t + mod_index * modulator)\n",
    "    \n",
    "    # Normalize\n",
    "    fm_signal = fm_signal / np.max(np.abs(fm_signal))\n",
    "    return fm_signal"
   ]
  },
  {
   "cell_type": "code",
   "execution_count": null,
   "id": "96fb6e32-cc83-40e1-97a3-cb59755b3ee0",
   "metadata": {},
   "outputs": [],
   "source": [
    "# Bell-like sound (C:M ratio near 1:1.4)\n",
    "bell_tone = create_fm_tone(\n",
    "    carrier_freq=200,\n",
    "    mod_freq=280,\n",
    "    mod_index=5.0\n",
    ")\n",
    "ipd.Audio(bell_tone, rate=sample_rate)"
   ]
  },
  {
   "cell_type": "code",
   "execution_count": null,
   "id": "9ea91786-0677-4732-9dd2-6c33fd298f7a",
   "metadata": {},
   "outputs": [],
   "source": [
    "# Metallic Chime (non-integer C:M ratio around 1:3.5)\n",
    "metal_hit = create_fm_tone(\n",
    "    carrier_freq=350,\n",
    "    mod_freq=1470,\n",
    "    mod_index=10.0\n",
    ")\n",
    "ipd.Audio(metal_hit, rate=sample_rate)"
   ]
  },
  {
   "cell_type": "markdown",
   "id": "2ee499a0-cffd-476f-8667-e512fb0ac504",
   "metadata": {
    "jp-MarkdownHeadingCollapsed": true
   },
   "source": [
    "**[E] Try out different Ratios of Carrier_Freq / Mod_Freq / Mod_Index**"
   ]
  },
  {
   "cell_type": "code",
   "execution_count": null,
   "id": "ccc9f727-7d8f-4fdc-a637-b71c3fe6f365",
   "metadata": {},
   "outputs": [],
   "source": []
  },
  {
   "cell_type": "code",
   "execution_count": null,
   "id": "39337401-9e44-4297-b362-d2fb747af422",
   "metadata": {},
   "outputs": [],
   "source": []
  },
  {
   "cell_type": "code",
   "execution_count": null,
   "id": "a980d4f1-9755-44c0-873c-9b17a9896880",
   "metadata": {},
   "outputs": [],
   "source": []
  },
  {
   "cell_type": "markdown",
   "id": "aae62fb0-a6be-4650-bb7e-06d2eda6805f",
   "metadata": {},
   "source": [
    "### Tremolo Effect\n",
    "\n",
    "This is the most basic AM effect, where amplitude varies periodically, creating a pulsating sound. It is made by variation in amplitude of sound and is also called underwater effect. Tremolo uses the AM equation: `output = carrier * (1 + modulator)` where the modulator is a low-frequency oscillator (LFO) typically between 1-20 Hz.\n",
    "\n",
    "Tremolo is one of the oldest electronic effects in music, used extensively in guitar amplifiers, organs, and synthesizers. Tremolo maintains the original pitch and simply varies the amplitude, creating a characteristically pulsating, rhythmic quality to sustained notes."
   ]
  },
  {
   "cell_type": "code",
   "execution_count": null,
   "id": "c73669fb-ab25-4d67-9b2f-bc68c06eeb05",
   "metadata": {},
   "outputs": [],
   "source": [
    "audio_url = \"static/tremolo.mp3\"\n",
    "ipd.Audio(audio_url)"
   ]
  },
  {
   "cell_type": "code",
   "execution_count": null,
   "id": "f4421ded-3821-4f13-a4e5-2b5eedbd7c24",
   "metadata": {},
   "outputs": [],
   "source": [
    "def create_tremolo(carrier_signal, tremolo_rate, tremolo_depth):\n",
    "    # Create modulator signal (LFO)\n",
    "    modulator = tremolo_depth * np.sin(phase_from_frequency(tremolo_rate))\n",
    "    \n",
    "    # Apply AM modulation: carrier * (1 + modulator)\n",
    "    # We normalize the modulator to ensure it stays in the range [-depth, depth]\n",
    "    tremolo_signal = carrier_signal * (1 + modulator)\n",
    "    \n",
    "    # Normalize output\n",
    "    tremolo_signal = tremolo_signal / np.max(np.abs(tremolo_signal))\n",
    "    \n",
    "    return tremolo_signal"
   ]
  },
  {
   "cell_type": "markdown",
   "id": "cf732a4e-5a9e-4077-b4e3-34ff0c4ee2a0",
   "metadata": {},
   "source": [
    "### Tremolo Parameters\n",
    "\n",
    "- **Rate:** Also known as Speed, It is how quickly the volume fluctuates\n",
    "- **Depth:** How much the volume changes, Its the \"intensity\" or \"strength\" of the tremolo.\n",
    "\n",
    "A slower **Rate** and higher **Depth** create a dramatic pulsing, whereas a faster Rate and lower Depth results in a subtle, shimmering effect\n",
    "\n",
    "<img src=\"https://m.media-amazon.com/images/I/61EjofqR3kL._AC_UF1000,1000_QL80_.jpg\" alt=\"alt\" width=\"300\" />"
   ]
  },
  {
   "cell_type": "code",
   "execution_count": null,
   "id": "b6303b80-1e86-492d-89cc-d7a599deedf0",
   "metadata": {},
   "outputs": [],
   "source": [
    "carrier_freq = 440  # A4 note\n",
    "carrier_amplitude = 0.8\n",
    "carrier_signal = carrier_amplitude * np.sin(phase_from_frequency(carrier_freq))\n",
    "\n",
    "# Play around with the Rate and Depth #\n",
    "\n",
    "tremolo_rate = 4  # 4, 6.5, 16 (different rates)\n",
    "tremolo_depth = 0.5  # 0.5, 2, 5 Depth\n",
    "tremolo = create_tremolo(carrier_signal, tremolo_rate, tremolo_depth)\n",
    "ipd.Audio(tremolo, rate=sample_rate)"
   ]
  },
  {
   "cell_type": "code",
   "execution_count": null,
   "id": "56656db8-6cc2-4969-85be-11f55acacb11",
   "metadata": {},
   "outputs": [],
   "source": [
    "plt.figure(figsize=(20, 4))\n",
    "plt.plot(sample_space[:65000], tremolo[:65000])"
   ]
  },
  {
   "cell_type": "code",
   "execution_count": null,
   "id": "aa330e93-dabb-416b-904d-cf02dbd9849a",
   "metadata": {},
   "outputs": [],
   "source": []
  },
  {
   "cell_type": "code",
   "execution_count": null,
   "id": "3d933a44-e9b7-4f0d-8ae7-173d4d60c25b",
   "metadata": {},
   "outputs": [],
   "source": []
  }
 ],
 "metadata": {
  "kernelspec": {
   "display_name": "Python 3 (ipykernel)",
   "language": "python",
   "name": "python3"
  },
  "language_info": {
   "codemirror_mode": {
    "name": "ipython",
    "version": 3
   },
   "file_extension": ".py",
   "mimetype": "text/x-python",
   "name": "python",
   "nbconvert_exporter": "python",
   "pygments_lexer": "ipython3",
   "version": "3.11.11"
  }
 },
 "nbformat": 4,
 "nbformat_minor": 5
}
