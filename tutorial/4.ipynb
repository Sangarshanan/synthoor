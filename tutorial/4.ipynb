{
 "cells": [
  {
   "cell_type": "code",
   "execution_count": null,
   "id": "b885a515-4c6d-4a92-a5fe-82dbcc0a944a",
   "metadata": {},
   "outputs": [],
   "source": [
    "import numpy as np\n",
    "from scipy import signal\n",
    "import IPython.display as ipd\n",
    "import matplotlib.pyplot as plt\n",
    "from scipy.fft import fft, fftfreq\n",
    "from utils import sample_rate, sample_space as t, plot_fft_simple, plot_fft, plot_fft_and_filter_response"
   ]
  },
  {
   "cell_type": "markdown",
   "id": "e73fb885-ced4-41ad-bde0-22d1b8d0d7f6",
   "metadata": {},
   "source": [
    "# Filtering the Sound\n",
    "\n",
    "Filters help you have more control on the tone of the sound, They can attenuate or boost specific frequencies, allowing users to modify the timbre and sonic character of the synthesizers. In a lot of ways filter is one of the most identifiable parts of the sound. Depending on the filter's settings, even a single synth can change from sounding smooth and liquid to grinding and aggressive"
   ]
  },
  {
   "cell_type": "code",
   "execution_count": null,
   "id": "58fff38f-42c7-4be7-962a-ca0f9b96db14",
   "metadata": {},
   "outputs": [],
   "source": [
    "freq = 100\n",
    "sine_wave = np.sin(2 * np.pi * freq * t)\n",
    "square_wave = signal.square(2 * np.pi * freq * t)\n",
    "sawtooth_wave = signal.sawtooth(2 * np.pi * freq * t)"
   ]
  },
  {
   "cell_type": "markdown",
   "id": "5679285e-54d5-4001-8a77-2d059dacec80",
   "metadata": {},
   "source": [
    "### Harmonics of the waveform! \n",
    "\n",
    "We know how these waveforms looks like but now let us use [Fast Fourier Transform](https://en.wikipedia.org/wiki/Fast_Fourier_transform) (FFT) to see the frequency components (fundamental and harmonics) present in each wave.\n"
   ]
  },
  {
   "cell_type": "code",
   "execution_count": null,
   "id": "5e758a2f-4b7b-4ee7-bbcd-425c25b11259",
   "metadata": {},
   "outputs": [],
   "source": [
    "fig_fft, axs_fft = plt.subplots(3, 1, figsize=(10, 10), sharex=False)\n",
    "fig_fft.suptitle('Spectral Content (Frequency Domain via FFT)', fontsize=16)\n",
    "\n",
    "plot_fft(axs_fft[0], sine_wave, sample_rate, 'Sine Wave Spectrum')\n",
    "plot_fft(axs_fft[1], square_wave, sample_rate, 'Square Wave Spectrum')\n",
    "plot_fft(axs_fft[2], sawtooth_wave, sample_rate, 'Sawtooth Wave Spectrum')\n",
    "\n",
    "plt.tight_layout(rect=[0, 0.03, 1, 0.96])\n",
    "plt.show()"
   ]
  },
  {
   "cell_type": "markdown",
   "id": "202e4a74-90e6-48c9-a4ba-48d0ca70f07e",
   "metadata": {},
   "source": [
    "### Observations from FFT\n",
    " *   **Sine:** Shows a single peak at the fundamental frequency (freq = 100 Hz).\n",
    " *   **Square:** Shows peaks at freq (100 Hz), 3*freq (300 Hz), 5*freq (500 Hz), etc. (odd harmonics).\n",
    " *   **Sawtooth:** Shows peaks at f0 (100 Hz), 2*freq (200 Hz), 3*freq (300 Hz), etc. (all harmonics).\n",
    "\n",
    "\n",
    "**Filters** help you change the balance of frequencies present in a signal. They work by **attenuating** (reducing the amplitude or \"volume\" of) certain frequency ranges while allowing others to **pass** through relatively unchanged.\n",
    "\n",
    "### The Low-Pass Filter (LPF)\n",
    "\n",
    "Removing high frequencies while allowing lower frequencies to pass\n",
    "\n",
    "- Cutoff Frequency: The frequency at which the filter starts significantly attenuating the signal\n",
    "- Filter Order: Determines how sharply the filter cuts off frequencies above the cutoff\n",
    "\n",
    "\n",
    "In music this filter is typically makes the sound appear \"darker,\" \"muffled\" or \"smoother\" because the higher, brighter harmonics are reduced or eliminated.\n"
   ]
  },
  {
   "cell_type": "code",
   "execution_count": null,
   "id": "d191bd35-b548-42f3-95f4-4cbc84408aec",
   "metadata": {},
   "outputs": [],
   "source": [
    "ipd.Audio(sawtooth_wave, rate=sample_rate)"
   ]
  },
  {
   "cell_type": "code",
   "execution_count": null,
   "id": "ab4f8183-77a9-48b0-a071-2adff93319d0",
   "metadata": {},
   "outputs": [],
   "source": [
    "cutoff_hz = 800  # Cutoff harmonics above 800 Hz.\n",
    "filter_order = 101 # Higher order = sharper cutoff\n",
    "normalized_cutoff = cutoff_hz / (sample_rate/2) # Normalize the cutoff frequency to Nyquist"
   ]
  },
  {
   "cell_type": "markdown",
   "id": "568cfac7-dfb9-4e9d-aad6-4a75e159fd24",
   "metadata": {},
   "source": [
    "### FIR low-pass filter (Finite Impulse Response)"
   ]
  },
  {
   "cell_type": "code",
   "execution_count": null,
   "id": "869c8e38-2e20-45c9-b754-51e0933b90e4",
   "metadata": {},
   "outputs": [],
   "source": [
    "# Get the filter_coefficients\n",
    "\"\"\"\n",
    "This function computes the coefficients of a finite impulse response filter.\n",
    "The filter will have linear phase\n",
    "\"\"\"\n",
    "filter_coefficients = signal.firwin(\n",
    "    filter_order,\n",
    "    normalized_cutoff,\n",
    "    pass_zero='lowpass'\n",
    ")\n",
    "# Apply filter on filter_coefficients\n",
    "\"\"\"\n",
    "Zero-phase digital filtering.\n",
    "It works by applying a filter to the input signal twice,\n",
    "once in the forward direction and then in the reverse direction,\n",
    "resulting in a filter with zero phase shift.\n",
    "\"\"\"\n",
    "filtered_signal = signal.filtfilt(filter_coefficients, 1.0, sawtooth_wave)"
   ]
  },
  {
   "cell_type": "code",
   "execution_count": null,
   "id": "c25635d9-e9be-4cb4-b921-36c514d6e623",
   "metadata": {},
   "outputs": [],
   "source": [
    "ipd.Audio(filtered_signal, rate=sample_rate)"
   ]
  },
  {
   "cell_type": "markdown",
   "id": "93bcd984-4b03-49b3-ac45-c910d2808d9b",
   "metadata": {},
   "source": [
    "### Plots Demonstrating Filters"
   ]
  },
  {
   "cell_type": "code",
   "execution_count": null,
   "id": "5a92817b-3527-4e93-ad8f-b0b4798312fb",
   "metadata": {},
   "outputs": [],
   "source": [
    "fig_fft_comp, axs_fft_comp = plt.subplots(2, 1, figsize=(10, 8), sharex=True, sharey=True)\n",
    "fig_fft_comp.suptitle(f'Spectral Comparison Before and After LPF (Cutoff={cutoff_hz}Hz)', fontsize=16)\n",
    "\n",
    "plot_fft(axs_fft_comp[0], sawtooth_wave, freq, 'Original Spectrum', max_freq=10)\n",
    "axs_fft_comp[0].axvline(cutoff_hz, color='black', linestyle='--', linewidth=1, label=f'Cutoff Freq')\n",
    "axs_fft_comp[0].legend()\n",
    "\n",
    "plot_fft(axs_fft_comp[1], filtered_signal, freq, 'Filtered Spectrum', max_freq=10)\n",
    "axs_fft_comp[1].axvline(cutoff_hz, color='black', linestyle='--', linewidth=1, label=f'Cutoff Freq')\n",
    "axs_fft_comp[1].legend()\n",
    "\n",
    "\n",
    "plt.tight_layout(rect=[0, 0.03, 1, 0.95])\n",
    "plt.show()"
   ]
  },
  {
   "cell_type": "code",
   "execution_count": null,
   "id": "9306d0c5-a826-4635-99e2-e7e5ec175ba5",
   "metadata": {},
   "outputs": [],
   "source": [
    "fig_lpf, axs_lpf = plt.subplots(3, 1, figsize=(12, 10))\n",
    "fig_lpf.suptitle(f'Low-Pass Filter', fontsize=20)\n",
    "signal_label = 'Sawtooth Wave'\n",
    "# Plot 1: Original Signal (Time Domain)\n",
    "axs_lpf[0].plot(t, sawtooth_wave, label=f'Original {signal_label}', color='blue')\n",
    "axs_lpf[0].set_title('Original Signal (Time Domain)')\n",
    "axs_lpf[0].set_xlabel('Time [s]')\n",
    "axs_lpf[0].set_ylabel('Amplitude')\n",
    "axs_lpf[0].legend()\n",
    "axs_lpf[0].grid(True)\n",
    "num_cycles_to_show = 3\n",
    "axs_lpf[0].set_xlim(0, num_cycles_to_show / freq) # Zoom time\n",
    "\n",
    "# Plot 2: Filtered Signal (Time Domain)\n",
    "axs_lpf[1].plot(t, filtered_signal, label=f'Filtered {signal_label}', color='green')\n",
    "axs_lpf[1].set_title('Filtered Signal (Time Domain)')\n",
    "axs_lpf[1].set_xlabel('Time [s]')\n",
    "axs_lpf[1].set_ylabel('Amplitude')\n",
    "axs_lpf[1].legend()\n",
    "axs_lpf[1].grid(True)\n",
    "axs_lpf[1].set_xlim(0, num_cycles_to_show / freq) # Zoom time\n",
    "\n",
    "# Plot 3: Frequency Response of the Filter\n",
    "w, h = signal.freqz(filter_coefficients, worN=8000) # Calculate filter frequency response\n",
    "freq_hz = (w / np.pi) * (0.5 * sample_rate) # Convert frequency axis to Hz\n",
    "\n",
    "axs_lpf[2].plot(freq_hz, 20 * np.log10(abs(h)), label='Filter Frequency Response', color='red')\n",
    "axs_lpf[2].axvline(cutoff_hz, color='black', linestyle='--', linewidth=1, label=f'Cutoff Freq ({cutoff_hz} Hz)')\n",
    "axs_lpf[2].axhline(-3, color='grey', linestyle=':', linewidth=1, label='-3 dB Point')\n",
    "axs_lpf[2].set_title('Low-Pass Filter Frequency Response')\n",
    "axs_lpf[2].set_xlabel('Frequency [Hz]')\n",
    "axs_lpf[2].set_ylabel('Magnitude [dB]')\n",
    "axs_lpf[2].set_ylim(-100, 5) # Adjust y-axis to see attenuation\n",
    "axs_lpf[2].set_xlim(0, sample_rate/8) # Zoom frequency axis for detail near cutoff\n",
    "axs_lpf[2].legend()\n",
    "axs_lpf[2].grid(True)\n",
    "\n",
    "\n",
    "plt.tight_layout(rect=[0, 0.03, 1, 0.95])\n",
    "plt.show()"
   ]
  },
  {
   "cell_type": "markdown",
   "id": "40c7c971-c199-4c94-b413-a63346306465",
   "metadata": {},
   "source": [
    "## HighPass Filter\n",
    "\n",
    "Highpass filters remove material low in the audio spectrum, while allowing higher frequencies to pass"
   ]
  },
  {
   "cell_type": "code",
   "execution_count": null,
   "id": "fce79d3a-f76d-4ce8-8936-1b1c1d9e8ea1",
   "metadata": {},
   "outputs": [],
   "source": [
    "cutoff_hz_hpf = 500  # Cutoff frequency in Hz for the High-Pass Filter.\n",
    "filter_order_hpf = 101 # Order of the FIR filter\n",
    "\n",
    "normalized_cutoff_hpf = cutoff_hz_hpf / (0.5 * sample_rate)"
   ]
  },
  {
   "cell_type": "code",
   "execution_count": null,
   "id": "2adbe2a7-2c0a-4b3d-b722-8aa671eb0452",
   "metadata": {},
   "outputs": [],
   "source": [
    "filter_coe_hpf = signal.firwin(filter_order_hpf, normalized_cutoff_hpf, pass_zero='highpass')\n",
    "filtered_signal_hpf = signal.filtfilt(filter_coe_hpf, 1.0, sawtooth_wave)"
   ]
  },
  {
   "cell_type": "code",
   "execution_count": null,
   "id": "b1f0b430-0da9-4fd0-8aeb-856a0a589c8b",
   "metadata": {},
   "outputs": [],
   "source": [
    "ipd.Audio(filtered_signal_hpf, rate=sample_rate)"
   ]
  },
  {
   "cell_type": "code",
   "execution_count": null,
   "id": "2ce60ce9-c89a-46ce-9b80-94e31f109dfe",
   "metadata": {},
   "outputs": [],
   "source": [
    "# --- Create Plots ---\n",
    "nyquist_hpf = 0.5 * sample_rate\n",
    "fig, axs = plt.subplots(2, 1, figsize=(10, 10)) # 3 rows, 1 column\n",
    "fig.suptitle(f'HPF Analysis (Cutoff = {cutoff_hz_hpf} Hz)', fontsize=16, y=1.02)\n",
    "\n",
    "# Maximum frequency to display on FFT plots (e.g., 20 times the fundamental)\n",
    "max_fft_freq_display = freq * 20\n",
    "\n",
    "# --- Plot 1: FFT of Original Signal ---\n",
    "plot_fft_simple(axs[0], sawtooth_wave, sample_rate,\n",
    "                f'Original sawtooth - Frequency Spectrum',\n",
    "                max_fft_freq_display, line_color='dodgerblue')\n",
    "axs[0].axvline(cutoff_hz_hpf, color='red', linestyle=':', linewidth=1.5, label=f'HPF Cutoff ({cutoff_hz_hpf} Hz)')\n",
    "axs[0].legend(loc='upper right')\n",
    "\n",
    "# --- Plot 2: FFT of Filtered Signal ---\n",
    "plot_fft_simple(axs[1], filtered_signal_hpf, sample_rate,\n",
    "                f'Filtered Sawtooth - Frequency Spectrum',\n",
    "                max_fft_freq_display, line_color='green')\n",
    "axs[1].axvline(cutoff_hz_hpf, color='red', linestyle=':', linewidth=1.5, label=f'HPF Cutoff ({cutoff_hz_hpf} Hz)')\n",
    "axs[1].legend(loc='upper right')\n",
    "\n",
    "plt.tight_layout()\n",
    "plt.show()"
   ]
  },
  {
   "cell_type": "markdown",
   "id": "6fd90489-4807-4e16-b7ef-d9ac8d54444c",
   "metadata": {},
   "source": [
    "> **LPF and HPF are used quite a lot in Mixing of tracks, So a DJ might use a high-pass filter on one track to gradually reduce the bass and bring in the next track with a low-pass filter, creating a smooth transition between the two tracks**"
   ]
  },
  {
   "cell_type": "code",
   "execution_count": null,
   "id": "e03e3445-bdd5-4d71-9aa8-0c03298503aa",
   "metadata": {},
   "outputs": [],
   "source": [
    "from IPython.display import IFrame\n",
    "IFrame('http://www.youtube.com/embed/atVnTF4ZaTY?start=80', width=800, height=500)"
   ]
  },
  {
   "cell_type": "markdown",
   "id": "3c19848d-251e-4bc3-a708-a79ebd0014b2",
   "metadata": {},
   "source": [
    "### Other Filters\n",
    "\n",
    "**BandPass:** Allow specific ranges of frequencies to pass, cutting off everything higher and lower than the specified range. For most bandpass filters, the range of frequencies allowed to pass has a fixed width. Some bandpass filters, however, provide an additional control for bandwidth—a variable control for the upper and lower cutoff boundaries\n",
    "\n",
    "**Notch:** Allows majority of frequencies pass, except for a small portion which is cut out. Usually this type of filter is reserved for utilitarian purposes, in order to cut out specific unwanted frequencies, but it can also be used to interesting effect, especially when the cutoff frequency is varied during use.\n",
    "\n"
   ]
  },
  {
   "cell_type": "markdown",
   "id": "6d71d66d-f241-4f94-9fd7-4efe5f12f227",
   "metadata": {},
   "source": [
    "**[E] Bandpass filter**"
   ]
  },
  {
   "cell_type": "code",
   "execution_count": null,
   "id": "88f3921a-c07a-47b7-ad77-1851cee25b9d",
   "metadata": {},
   "outputs": [],
   "source": [
    "# BandPass Filter\n",
    "\n",
    "lowcut_hz = 100\n",
    "highcut_hz = 300\n",
    "filter_order = 301"
   ]
  },
  {
   "cell_type": "code",
   "execution_count": null,
   "id": "4bce5715-72c9-4ad4-acba-f83e7ec172df",
   "metadata": {},
   "outputs": [],
   "source": []
  },
  {
   "cell_type": "code",
   "execution_count": null,
   "id": "63b7b219-cea0-4173-955f-ff57472ccfc1",
   "metadata": {},
   "outputs": [],
   "source": []
  },
  {
   "cell_type": "code",
   "execution_count": null,
   "id": "92c0c332-8027-4481-9b24-361fe53d418a",
   "metadata": {},
   "outputs": [],
   "source": []
  },
  {
   "cell_type": "code",
   "execution_count": null,
   "id": "89869d3e-08c8-414c-a788-e39ce5199f73",
   "metadata": {},
   "outputs": [],
   "source": []
  },
  {
   "cell_type": "code",
   "execution_count": null,
   "id": "9a5d22b6-76fa-4f4c-bf64-4678b747d71a",
   "metadata": {},
   "outputs": [],
   "source": []
  },
  {
   "cell_type": "code",
   "execution_count": null,
   "id": "a968f9bd-4633-4e87-a427-dcb8d06aaa50",
   "metadata": {},
   "outputs": [],
   "source": []
  },
  {
   "cell_type": "markdown",
   "id": "0d9044c3-b15b-4185-8d18-62af62e98bde",
   "metadata": {},
   "source": [
    "**Slope**\n",
    "\n",
    "Filters are generally designed \"smooth\" and musically desirable to gradually taper out harmonic material rather than imposing a strict limit on what frequency ranges are heard and not heard. The intensity with which a filter \"rolls off\" frequencies beyond its cutoff frequency is called slope, and is usually measured in **decibels per octave.**  The most traditional slopes are 12dB/Oct and 24dB/Oct"
   ]
  },
  {
   "cell_type": "markdown",
   "id": "23ec7016-1a17-4ba9-bfe6-cff90549f605",
   "metadata": {},
   "source": [
    "### Resonance\n",
    "\n",
    "Resonance (Q) refers to a characteristic where the filter boosts or emphasizes frequencies right around its cutoff frequency.\n",
    "\n",
    "Imagine a standard Low-Pass Filter. As you approach the cutoff frequency from below, the filter starts to attenuate higher frequencies. With resonance, instead of a smooth roll-off, there's a \"bump\" or a distinct peak in the filter's frequency response right at the cutoff point before the attenuation begins (or continues more steeply after the peak).\n"
   ]
  },
  {
   "cell_type": "code",
   "execution_count": null,
   "id": "d4fe5db9-1985-4ac1-bc69-78161c8a1db3",
   "metadata": {},
   "outputs": [],
   "source": [
    "cutoff_hz = 400 # Hz\n",
    "fs = sample_rate\n",
    "white_noise = np.random.uniform(-0.5, 0.5, int(fs * 2))\n",
    "ipd.Audio(white_noise, rate=fs)"
   ]
  },
  {
   "cell_type": "code",
   "execution_count": null,
   "id": "d66ce9a6-46bf-4210-b2cb-677c48d150f7",
   "metadata": {},
   "outputs": [],
   "source": [
    "fig_fft_iir, axs_fft_iir = plt.subplots(figsize=(20, 8))\n",
    "N_orig = len(white_noise)\n",
    "yf_orig_audio = np.abs(fft(white_noise)[0:N_orig//2]) / N_orig * 2\n",
    "xf_orig_audio = fftfreq(N_orig, 1/fs)[0:N_orig//2]\n",
    "axs_fft_iir.plot(xf_orig_audio, 20 * np.log10(yf_orig_audio + 1e-9), color='gray', alpha=0.7)\n",
    "axs_fft_iir.set_title('Original White Noise Spectrum')"
   ]
  },
  {
   "cell_type": "markdown",
   "id": "549f4f3f-3cb6-4962-bee5-a29601b169df",
   "metadata": {},
   "source": [
    "### ButterWorth Filter\n",
    "\n",
    "https://docs.scipy.org/doc/scipy/reference/generated/scipy.signal.butter.html\n",
    "\n",
    "Unlike FIR filters Butterworth filters are **IIR (Infinite Impulse Response)**  filters\n",
    "\n",
    "FIR filters have a finite-length impulse response, meaning their output eventually returns to zero after the input is removed. This leads to linear phase response and inherent stability. IIR filters, on the other hand, have an impulse response that theoretically extends infinitely due to feedback loops, offering advantages in computational efficiency and steeper roll-offs but potentially sacrificing linear phase and stability"
   ]
  },
  {
   "cell_type": "code",
   "execution_count": null,
   "id": "e181ca90-7d3b-446d-a507-a5af37fa2ad7",
   "metadata": {},
   "outputs": [],
   "source": [
    "order_no_res = 4\n",
    "# Numerator (b) and denominator (a) polynomials of the IIR filter\n",
    "b_no_res, a_no_res = signal.butter(N=order_no_res, Wn=cutoff_hz, btype='low', analog=False, fs=fs)\n",
    "filtered_audio_no_res = signal.lfilter(b_no_res, a_no_res, white_noise)\n",
    "\n",
    "# Plot Spectrum\n",
    "fig_fft_iir, axs_fft_iir = plt.subplots(figsize=(20, 8))\n",
    "plot_fft_and_filter_response(axs_fft_iir, filtered_audio_no_res, b_no_res, a_no_res, fs,\n",
    "                             f'Butterworth LPF (Order {order_no_res})', 'dodgerblue', cutoff_hz)\n",
    "\n",
    "# Play audio\n",
    "ipd.Audio(filtered_audio_no_res, rate=fs)"
   ]
  },
  {
   "cell_type": "markdown",
   "id": "2b5175bd-4c13-4167-b035-df59f8b93a19",
   "metadata": {},
   "source": [
    "### Adding Low Resonance (Q=30)\n",
    "\n",
    "The noise will still be low-passed, but you'll hear a distinct \"coloration\" or \"emphasis\" around 400 Hz.\n",
    "\n",
    "We are using a **biquad filter** which can be used to create resonance in audio signals. The resonance is achieved by controlling the filter's coefficients, particularly the parameters related to the poles (damping factor or Q).\n",
    "\n",
    "```\n",
    "H(z) = (b0 + b1z^-1 + b2z^-2) / (a0 + a1z^-1 + a2z^-2).\n",
    "```\n",
    "\n",
    "Here the variables b0, b1, b2 (The \"Feedforward\" Path) and a0, a1, a2 (The \"Feedback\" Path) are the filter coefficients. This equation represents how the filter's own past outputs are fed back to influence the current output. This feedback is what allows for an \"infinite impulse response\" and enables sharp resonances and self-oscillation if the poles are close to or on the unit circle."
   ]
  },
  {
   "cell_type": "code",
   "execution_count": null,
   "id": "2ddb43a9-fa8d-4ed1-898b-86471b505fb8",
   "metadata": {},
   "outputs": [],
   "source": [
    "Q_moderate = 3.0  # Quality factor for moderate resonance\n",
    "\n",
    "# Calculate A and B for the give Q value\n",
    "w0_mod = 2 * np.pi * cutoff_hz / fs\n",
    "alpha_moderate = np.sin(w0_mod) / (2 * Q_moderate)\n",
    "\n",
    "b0_mod = (1 - np.cos(w0_mod)) / 2\n",
    "b1_mod = 1 - np.cos(w0_mod)\n",
    "b2_mod = (1 - np.cos(w0_mod)) / 2\n",
    "a0_norm_factor_mod = 1 + alpha_moderate # Denominator for normalization\n",
    "\n",
    "b_moderate_res = np.array([b0_mod, b1_mod, b2_mod]) / a0_norm_factor_mod\n",
    "a_moderate_res = np.array([a0_norm_factor_mod, -2 * np.cos(w0_mod), 1 - alpha_moderate]) / a0_norm_factor_mod\n",
    "\n",
    "filtered_audio_moderate_res = signal.lfilter(b_moderate_res, a_moderate_res, white_noise)\n",
    "\n",
    "# Plot Resonant LPF with the given A and B\n",
    "fig_fft_iir, axs_fft_iir = plt.subplots(figsize=(20, 8))\n",
    "plot_fft_and_filter_response(axs_fft_iir, filtered_audio_moderate_res, b_moderate_res, a_moderate_res, fs,\n",
    "                             f'Resonant LPF (Moderate Q={Q_moderate:.1f})', 'green', cutoff_hz)\n",
    "\n",
    "# Play audio\n",
    "ipd.Audio(filtered_audio_moderate_res, rate=fs)"
   ]
  },
  {
   "cell_type": "markdown",
   "id": "5ab78bb1-677a-45dc-9c3b-b5d551e3827d",
   "metadata": {},
   "source": [
    "### Adding High Resonance (Q=10)\n",
    "\n",
    "The LPF effect will be present, but the resonance at 400 Hz will be very prominent, possibly sounding like a \"whine,\" \"ring,\" or a strong \"pitched tone\" emerging from the noise. If Q was extremely high, you might even hear it \"singing\" close to self-oscillation."
   ]
  },
  {
   "cell_type": "code",
   "execution_count": null,
   "id": "d555d00d-8f6f-4794-b73a-637e768bf2cc",
   "metadata": {},
   "outputs": [],
   "source": [
    "Q_high = 10.0 # Higher Q factor for strong resonance\n",
    "w0_high = 2 * np.pi * cutoff_hz / fs\n",
    "alpha_high = np.sin(w0_high) / (2 * Q_high)\n",
    "\n",
    "b0_high = (1 - np.cos(w0_high)) / 2\n",
    "b1_high = 1 - np.cos(w0_high)\n",
    "b2_high = (1 - np.cos(w0_high)) / 2\n",
    "a0_norm_factor_high = 1 + alpha_high\n",
    "\n",
    "b_high_res = np.array([b0_high, b1_high, b2_high]) / a0_norm_factor_high\n",
    "a_high_res = np.array([a0_norm_factor_high, -2 * np.cos(w0_high), 1 - alpha_high]) / a0_norm_factor_high\n",
    "\n",
    "filtered_audio_high_res = signal.lfilter(b_high_res, a_high_res, white_noise)\n",
    "\n",
    "# Plot Resonant LPF\n",
    "fig_fft_iir, axs_fft_iir = plt.subplots(figsize=(20, 8))\n",
    "plot_fft_and_filter_response(axs_fft_iir, filtered_audio_high_res, b_high_res, a_high_res, fs,\n",
    "                             f'Resonant LPF (High Q={Q_high:.1f})', 'orangered', cutoff_hz)\n",
    "\n",
    "# Play Audio\n",
    "ipd.Audio(filtered_audio_high_res, rate=fs)"
   ]
  },
  {
   "cell_type": "markdown",
   "id": "05c8b968-44a1-4e06-9aae-ee938ac95e81",
   "metadata": {},
   "source": [
    "## Self Oscillation\n",
    "\n",
    "Many filters are designed in such a way that high resonance settings result in subtle or extreme self-oscillation—that is to say, the filter itself can be made to produce a constant tone simply by virtue of its resonance being set relatively high.\n",
    "\n",
    "when resonance is pushed to a high enough point it can effectively creating a **Sine Wave oscillator**\n"
   ]
  },
  {
   "cell_type": "code",
   "execution_count": null,
   "id": "5bb5ec52-7a4d-46c9-b014-f5d6c2a9ac58",
   "metadata": {},
   "outputs": [],
   "source": []
  },
  {
   "cell_type": "code",
   "execution_count": null,
   "id": "c4c8928f-667b-4f57-a8d5-c7ed486fd9dc",
   "metadata": {},
   "outputs": [],
   "source": []
  }
 ],
 "metadata": {
  "kernelspec": {
   "display_name": "Python 3 (ipykernel)",
   "language": "python",
   "name": "python3"
  },
  "language_info": {
   "codemirror_mode": {
    "name": "ipython",
    "version": 3
   },
   "file_extension": ".py",
   "mimetype": "text/x-python",
   "name": "python",
   "nbconvert_exporter": "python",
   "pygments_lexer": "ipython3",
   "version": "3.11.11"
  }
 },
 "nbformat": 4,
 "nbformat_minor": 5
}
