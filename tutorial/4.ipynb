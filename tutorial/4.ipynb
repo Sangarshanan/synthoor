{
 "cells": [
  {
   "cell_type": "code",
   "execution_count": 1,
   "id": "b885a515-4c6d-4a92-a5fe-82dbcc0a944a",
   "metadata": {},
   "outputs": [],
   "source": [
    "import numpy as np\n",
    "import IPython.display as ipd\n",
    "import matplotlib.pyplot as plt\n",
    "from utils import sample_rate, sample_space, phase_from_frequency"
   ]
  },
  {
   "cell_type": "markdown",
   "id": "e73fb885-ced4-41ad-bde0-22d1b8d0d7f6",
   "metadata": {},
   "source": [
    "# Filtering the Sound"
   ]
  },
  {
   "cell_type": "code",
   "execution_count": null,
   "id": "58fff38f-42c7-4be7-962a-ca0f9b96db14",
   "metadata": {},
   "outputs": [],
   "source": []
  },
  {
   "cell_type": "code",
   "execution_count": null,
   "id": "fd89aa52-c28a-461e-b67d-4ffc4a4d371e",
   "metadata": {},
   "outputs": [],
   "source": []
  },
  {
   "cell_type": "code",
   "execution_count": null,
   "id": "b877ed9a-5f25-4472-b35b-397b60e5dc9e",
   "metadata": {},
   "outputs": [],
   "source": []
  },
  {
   "cell_type": "code",
   "execution_count": null,
   "id": "5e758a2f-4b7b-4ee7-bbcd-425c25b11259",
   "metadata": {},
   "outputs": [],
   "source": []
  },
  {
   "cell_type": "code",
   "execution_count": null,
   "id": "1896a319-b859-4115-acb6-c52b8dfc1a2a",
   "metadata": {},
   "outputs": [],
   "source": []
  },
  {
   "cell_type": "code",
   "execution_count": null,
   "id": "d191bd35-b548-42f3-95f4-4cbc84408aec",
   "metadata": {},
   "outputs": [],
   "source": []
  },
  {
   "cell_type": "code",
   "execution_count": null,
   "id": "2adbe2a7-2c0a-4b3d-b722-8aa671eb0452",
   "metadata": {},
   "outputs": [],
   "source": []
  }
 ],
 "metadata": {
  "kernelspec": {
   "display_name": "Python 3 (ipykernel)",
   "language": "python",
   "name": "python3"
  },
  "language_info": {
   "codemirror_mode": {
    "name": "ipython",
    "version": 3
   },
   "file_extension": ".py",
   "mimetype": "text/x-python",
   "name": "python",
   "nbconvert_exporter": "python",
   "pygments_lexer": "ipython3",
   "version": "3.11.11"
  }
 },
 "nbformat": 4,
 "nbformat_minor": 5
}
