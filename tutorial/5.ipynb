{
 "cells": [
  {
   "cell_type": "code",
   "execution_count": null,
   "id": "bf88b676-eaf9-44fb-a110-975b8a274ce6",
   "metadata": {},
   "outputs": [],
   "source": [
    "import random\n",
    "import time\n",
    "from synthoor import GatedSound, Envelope, Oscillator, ButterFilter"
   ]
  },
  {
   "cell_type": "markdown",
   "id": "be036b54-c88e-40a1-92c8-a2fa65654e84",
   "metadata": {},
   "source": [
    "## Programming Synthesizers!"
   ]
  },
  {
   "cell_type": "markdown",
   "id": "c35b85a0-96a9-46ce-be55-26d319469aeb",
   "metadata": {},
   "source": [
    "![img](https://www.phys.unsw.edu.au/jw/graphics/notes.GIF)"
   ]
  },
  {
   "cell_type": "code",
   "execution_count": 7,
   "id": "01940b25-2a9e-423e-b89b-f2b70703cbaa",
   "metadata": {},
   "outputs": [],
   "source": [
    "class SimpleSynth(GatedSound):\n",
    "\n",
    "    def __init__(self):\n",
    "\n",
    "        super().__init__()\n",
    "\n",
    "        self.osc0 = Oscillator('sine')\n",
    "\n",
    "    def forward(self):\n",
    "        \n",
    "        g0 = self.gate()\n",
    "        a0 = self.osc0(freq=self.freq)\n",
    "\n",
    "        return a0 * g0\n",
    "\n",
    "s = SimpleSynth()\n",
    "\n",
    "s.play(\n",
    "    note=50,\n",
    "    duration=1\n",
    ")"
   ]
  },
  {
   "cell_type": "markdown",
   "id": "66ae6b1c-d3a4-43ee-a772-c5846bc393cd",
   "metadata": {},
   "source": [
    "### Randomisation Fun"
   ]
  },
  {
   "cell_type": "code",
   "execution_count": 9,
   "id": "a99c2f9f-d724-454a-9b83-65eb873c8cd8",
   "metadata": {},
   "outputs": [],
   "source": [
    "for _ in range(10):\n",
    "    d = random.uniform(0.1, 0.9)\n",
    "    s.play(\n",
    "        note=random.randint(50, 80),\n",
    "        duration=d\n",
    "    )\n",
    "    time.sleep(d)"
   ]
  },
  {
   "cell_type": "markdown",
   "id": "06d544a1-a49e-418d-8f28-f7527a1d20f2",
   "metadata": {},
   "source": [
    "### Acid TB303 Synths"
   ]
  },
  {
   "cell_type": "code",
   "execution_count": 10,
   "id": "4932aacc-8d65-4f7b-aa2b-93ec11b555e1",
   "metadata": {},
   "outputs": [],
   "source": [
    "class TB303(GatedSound):\n",
    "\n",
    "    def __init__(self):\n",
    "\n",
    "        super().__init__()\n",
    "        \n",
    "        # Two Envelopes\n",
    "        self.env0 = Envelope(\n",
    "            0.05, 0, 1, 0.01\n",
    "        )\n",
    "        self.env1 = Envelope(\n",
    "            0, 1, 0, 0,\n",
    "        linear=False)\n",
    "\n",
    "        self.osc0 = Oscillator('saw')\n",
    "\n",
    "        self.filter = ButterFilter(btype='lowpass')\n",
    "\n",
    "    def forward(self):\n",
    "\n",
    "        g0 = self.gate()\n",
    "\n",
    "        e0 = self.env0(g0)\n",
    "        e1 = self.env1(g0, decay=1) * 12 * 10\n",
    "\n",
    "        a0 = self.osc0(freq=self.freq)\n",
    "\n",
    "        a1 = self.filter(\n",
    "            a0,\n",
    "            key_modulation=e1,\n",
    "            freq=self.freq,\n",
    "        )\n",
    "\n",
    "        return a1 * e0\n",
    "    \n",
    "t = TB303()\n",
    "t.play(\n",
    "    note=50,\n",
    ")"
   ]
  },
  {
   "cell_type": "code",
   "execution_count": 12,
   "id": "43b2a4ac-7ac5-41a3-b3f1-fff8f4c05da7",
   "metadata": {},
   "outputs": [],
   "source": [
    "for _ in range(10):\n",
    "    d = random.uniform(0.1, 0.9)\n",
    "    t.play(\n",
    "        note=random.randint(30, 40),\n",
    "        duration=d\n",
    "    )\n",
    "    time.sleep(d)"
   ]
  },
  {
   "cell_type": "markdown",
   "id": "08856ef1-824b-4624-b4ac-46235d23a37b",
   "metadata": {},
   "source": [
    "### Experimental synth < MADE BY YOU :) >"
   ]
  },
  {
   "cell_type": "code",
   "execution_count": null,
   "id": "e1b270be-b5e8-4c4b-8f09-d21492280d27",
   "metadata": {},
   "outputs": [],
   "source": []
  },
  {
   "cell_type": "code",
   "execution_count": null,
   "id": "491a30f6-34e8-44a4-8784-170bfe657052",
   "metadata": {},
   "outputs": [],
   "source": []
  },
  {
   "cell_type": "code",
   "execution_count": null,
   "id": "78d87b4e-e997-4b99-9fa6-162ad1d76162",
   "metadata": {},
   "outputs": [],
   "source": []
  }
 ],
 "metadata": {
  "kernelspec": {
   "display_name": "Python 3 (ipykernel)",
   "language": "python",
   "name": "python3"
  },
  "language_info": {
   "codemirror_mode": {
    "name": "ipython",
    "version": 3
   },
   "file_extension": ".py",
   "mimetype": "text/x-python",
   "name": "python",
   "nbconvert_exporter": "python",
   "pygments_lexer": "ipython3",
   "version": "3.10.16"
  }
 },
 "nbformat": 4,
 "nbformat_minor": 5
}
