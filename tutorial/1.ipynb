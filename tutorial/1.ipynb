{
 "cells": [
  {
   "cell_type": "markdown",
   "id": "7b0891af-9fb7-47c2-b7ec-11b4b3c524f5",
   "metadata": {},
   "source": [
    "# Part 1: Making Sounds with Python"
   ]
  },
  {
   "cell_type": "code",
   "execution_count": null,
   "id": "7feedcb3",
   "metadata": {},
   "outputs": [],
   "source": [
    "# Import the required Packages\n",
    "import numpy as np\n",
    "from scipy import signal\n",
    "import IPython.display as ipd\n",
    "import matplotlib.pyplot as plt"
   ]
  },
  {
   "cell_type": "markdown",
   "id": "24f38192-8c2a-4892-9519-ef856555aacf",
   "metadata": {},
   "source": [
    "## Creating our first sound\n",
    "\n",
    "Sound is just continuous and regular waves traveling through a medium (typically air). These waves can be represented as oscillations that vary in amplitude (loudness) and frequency (pitch). One of the beautiful things about digital audio is that we can create these waves programmatically.\n",
    "\n",
    "\n",
    "Let's start by looking at how we can model a simple sine wave, which is the purest form of sound:\n"
   ]
  },
  {
   "cell_type": "code",
   "execution_count": null,
   "id": "5edf51c7-29a9-4f70-af3f-f4a3254aa351",
   "metadata": {},
   "outputs": [],
   "source": [
    "# We define the sample rate (how many points per second), duration, and frequency\n",
    "sample_rate = 44100  # CD-quality audio (samples per second)\n",
    "duration = 2  # seconds\n",
    "frequency = 440  # Hz (A4 note)\n",
    "amplitude = 0.4 # loudness"
   ]
  },
  {
   "cell_type": "code",
   "execution_count": null,
   "id": "cf34bba3-1f6c-469a-88dc-44c0610f647f",
   "metadata": {},
   "outputs": [],
   "source": [
    "# Range of the sound: nsamples points equaly spaced in the range\n",
    "sample_space = np.linspace(\n",
    "    0, # start\n",
    "    duration, # stop\n",
    "    int(sample_rate * duration), # Number of samples to generate\n",
    "    endpoint=False # if True stop is the last sample, here its not included\n",
    ")\n",
    "plt.plot(sample_space)"
   ]
  },
  {
   "cell_type": "code",
   "execution_count": null,
   "id": "ca7a449a-d1d1-4d61-9675-91973435bdd3",
   "metadata": {},
   "outputs": [],
   "source": [
    "# Numpy Sin of One angle\n",
    "np.sin(\n",
    "    np.pi/ 2 # Angle, in radians\n",
    ")"
   ]
  },
  {
   "cell_type": "markdown",
   "id": "f40e7f72-95be-4160-a16b-b2b9210908c9",
   "metadata": {},
   "source": [
    "**Convert Frequency in Hz to Angular Frequency**\n",
    "\n",
    "Angular frequency (in radians) is larger than regular frequency (in Hz) by a factor of 2π\n",
    "```math\n",
    "ω = 2πf\n",
    "```"
   ]
  },
  {
   "cell_type": "code",
   "execution_count": null,
   "id": "d61ce7f7-164e-4df1-84bf-9b2348132018",
   "metadata": {},
   "outputs": [],
   "source": [
    "# Calculate angular frequency\n",
    "angular_frequency = 2 * np.pi * frequency  # radians/second\n",
    "\n",
    "# Calculate the phase for each point in sample space\n",
    "phase = angular_frequency * sample_space"
   ]
  },
  {
   "cell_type": "code",
   "execution_count": null,
   "id": "0da359d3-0559-4c6d-9e30-5e60f28e01cf",
   "metadata": {},
   "outputs": [],
   "source": [
    "sine_wave = np.sin(phase) * amplitude\n",
    "ipd.Audio(sine_wave, rate=sample_rate, normalize=False)"
   ]
  },
  {
   "cell_type": "code",
   "execution_count": null,
   "id": "1aa32946-8ad6-448c-bebd-bc92fc58d723",
   "metadata": {},
   "outputs": [],
   "source": [
    "# To create any wave we need phase over time\n",
    "def phase_from_frequency(frequency, sample_space=sample_space):\n",
    "    return 2*np.pi*frequency*sample_space"
   ]
  },
  {
   "cell_type": "markdown",
   "id": "89d9dcda-e66c-4b3d-b316-e0376a1ed6b0",
   "metadata": {},
   "source": [
    "#### Sine wave\n",
    "\n",
    "Also called **fundamental**, Sine waves are the simplest periodic waveforms, meaning they oscillate smoothly and continuously with a single frequency. Any complex waveform can be constructed by combining different sine waves with varying amplitudes and frequencies\n"
   ]
  },
  {
   "cell_type": "code",
   "execution_count": null,
   "id": "c8b5cab7-5670-45f1-a1d9-2af558a127bb",
   "metadata": {},
   "outputs": [],
   "source": [
    "plt.xlabel(\"Time (s)\")\n",
    "plt.ylabel(\"Amplitude\")\n",
    "plt.plot(sample_space[:1000], sine_wave[:1000])"
   ]
  },
  {
   "cell_type": "markdown",
   "id": "b7ad0635-346b-4760-9f85-e2df08bec0f7",
   "metadata": {},
   "source": [
    "#### Square wave\n",
    "\n",
    "Square waves are a step away from smoothness and more toward buzziness. They contain Harmonics (frequencies that are whole number multiples of the fundamental frequency). Square waveforms drone at low frequencies, and by the nature of their upper and lower envelopes are the loudest waveform\n",
    "\n",
    "#### Triangle wave\n",
    "\n",
    "This wave is in between a square wave and sine wave: It does not have the ups and downs of a square wave (not as buzzy) but not as smooth as a sine wave (taper off as they get further away from the fundamental)\n",
    "\n",
    "#### Sawtooth wave\n",
    "\n",
    "This variation of the triangle wave is much more jagged and so looks like a saw! It is the buzziest sounding of them all, sounding even harsher than a square wave, and that’s because it’s the richest in terms of harmonics so you can make some really cool sounds by filtering out frequencies"
   ]
  },
  {
   "cell_type": "code",
   "execution_count": null,
   "id": "0caa7985-42c1-4c61-b603-47fc2334fc69",
   "metadata": {},
   "outputs": [],
   "source": [
    "print(\"Square Wave\")\n",
    "square_wave_data = signal.square(phase_from_frequency(frequency))*amplitude\n",
    "ipd.display(ipd.Audio(square_wave_data, rate=sample_rate, normalize=False))\n",
    "\n",
    "print(\"Triangle Wave\")\n",
    "tri_wave_data = signal.sawtooth(phase_from_frequency(frequency),  width=0.5)*amplitude\n",
    "ipd.display(ipd.Audio(tri_wave_data, rate=sample_rate, normalize=False))\n",
    "\n",
    "print(\"SawTooth Wave\")\n",
    "saw_wave_data = signal.sawtooth(phase_from_frequency(frequency))*amplitude\n",
    "ipd.display(ipd.Audio(saw_wave_data, rate=sample_rate, normalize=False))\n",
    "\n",
    "fig, axs = plt.subplots(2, 2, constrained_layout=True)\n",
    "axs[0, 0].plot(sample_space[:1000], sine_wave[:1000])\n",
    "axs[0, 0].set_title('Sine Wave')\n",
    "axs[0, 1].plot(sample_space[:1000], square_wave_data[:1000], 'tab:orange')\n",
    "axs[0, 1].set_title('Square Wave')\n",
    "axs[1, 0].plot(sample_space[:1000], tri_wave_data[:1000], 'tab:green')\n",
    "axs[1, 0].set_title('Triangle Wave')\n",
    "axs[1, 1].plot(sample_space[:1000], saw_wave_data[:1000], 'tab:red')\n",
    "axs[1, 1].set_title('Sawtooth Wave')"
   ]
  },
  {
   "cell_type": "markdown",
   "id": "b1685e7b-9bc2-4f05-a216-b6e8f6ca17a1",
   "metadata": {},
   "source": [
    "### [E] Make a simple Sequence\n",
    "\n",
    "Stack Sounds\n",
    "To play notes one after the other, frequencies need to be stacked Horizontally to create a Sequence\n",
    "\n",
    "Use Numpy to stack arrays in sequence horizontally"
   ]
  },
  {
   "cell_type": "code",
   "execution_count": null,
   "id": "628a5b3a-8ddd-4878-866a-2d6e59feba19",
   "metadata": {},
   "outputs": [],
   "source": [
    "# Multiple tones at different frequencies\n",
    "tone1 = signal.sawtooth(phase_from_frequency(50)) * 0.2\n",
    "tone2 = signal.sawtooth(phase_from_frequency(60)) * 0.2\n",
    "tone3 = signal.sawtooth(phase_from_frequency(40)) * 0.2\n",
    "tone4 = signal.sawtooth(phase_from_frequency(30)) * 0.2"
   ]
  },
  {
   "cell_type": "markdown",
   "id": "348d2343",
   "metadata": {},
   "source": [
    "## Playing around with frequencies"
   ]
  },
  {
   "cell_type": "markdown",
   "id": "4c1b4ed6-6dcd-414d-823e-d9dc055870ee",
   "metadata": {},
   "source": [
    "### Kick with Square Wave"
   ]
  },
  {
   "cell_type": "code",
   "execution_count": null,
   "id": "549fa21c-2b1d-4869-81a2-59786f605c81",
   "metadata": {},
   "outputs": [],
   "source": [
    "frequency = 1\n",
    "duration = 3\n",
    "\n",
    "square_wave_data = signal.square(phase_from_frequency(frequency, sample_space))*amplitude\n",
    "ipd.Audio(square_wave_data, rate=sample_rate, normalize=False)\n",
    "# Adding a Cutoff + Filters would make it a crisp Kick"
   ]
  },
  {
   "cell_type": "code",
   "execution_count": null,
   "id": "18a489f4-27ad-45f3-a37d-18f46ae5c918",
   "metadata": {},
   "outputs": [],
   "source": [
    "plt.plot(square_wave_data)"
   ]
  },
  {
   "cell_type": "markdown",
   "id": "234a7e74-a114-4774-ad6f-9c2c51274b2b",
   "metadata": {},
   "source": [
    "# Oscillators\n",
    "\n",
    "An oscillator is anything that oscillates, usually in some repetetive fashion. In synthesizers, oscillators are the fundamental sound-generating components that produce repeating waveforms ( ine, square, sawtooth, triangle) at a specific frequency, forming the basis for all the sounds you can create. \n"
   ]
  },
  {
   "cell_type": "markdown",
   "id": "e66b4b47-0a7a-4cb2-82d5-953310cb29e7",
   "metadata": {},
   "source": [
    "### [E] Make a simple Oscillator"
   ]
  },
  {
   "cell_type": "code",
   "execution_count": null,
   "id": "27905509-eabf-408c-97d7-a91b8e2085b4",
   "metadata": {},
   "outputs": [],
   "source": [
    "def phase_from_frequency(frequency, duration, sample_rate=44100):\n",
    "    time = np.linspace(\n",
    "        0, # start\n",
    "        duration, # stop\n",
    "        int(sample_rate * duration),\n",
    "        endpoint=False\n",
    "    )\n",
    "    angular_freq = 2*np.pi*frequency\n",
    "    return angular_freq * time\n",
    "\n",
    "def get_sine_wave(frequency, amp, duration):\n",
    "    return np.sin(phase_from_frequency(frequency, duration)) * amp\n",
    "\n",
    "def get_triangle_wave(frequency, amp, duration):\n",
    "    return signal.sawtooth(phase_from_frequency(frequency, duration),  width=0.5)*amp\n",
    "\n",
    "def get_square_wave(frequency, amp, duration):\n",
    "    return signal.square(phase_from_frequency(frequency, duration)) * amp\n",
    "\n",
    "def get_sawtooth_wave(frequency, amp, duration):\n",
    "    return signal.sawtooth(phase_from_frequency(frequency, duration)) * amp"
   ]
  },
  {
   "cell_type": "code",
   "execution_count": null,
   "id": "f3a0eb09-3776-4a1a-b431-160d10e8ae66",
   "metadata": {},
   "outputs": [],
   "source": [
    "class Oscillator:\n",
    "    def __init__(self, shape):\n",
    "        \"\"\"\n",
    "        Initialise an Oscillator\n",
    "        \"\"\"\n",
    "        pass\n",
    "\n",
    "    def play(self, frequency, amp=1, duration=1):\n",
    "        \"\"\"\n",
    "        Play the sound\n",
    "        \"\"\"\n",
    "        pass"
   ]
  },
  {
   "cell_type": "code",
   "execution_count": null,
   "id": "d49f82b3-b7b1-4b1e-80d5-cd9a6e49771d",
   "metadata": {},
   "outputs": [],
   "source": [
    "osc = Oscillator(\"sine\")\n",
    "sine_wave = osc.play(400, 1, 0.5)\n",
    "plt.plot(sine_wave[:1000])"
   ]
  },
  {
   "cell_type": "markdown",
   "id": "ed04b960-9311-4bc2-9035-2c494ceea8f8",
   "metadata": {},
   "source": [
    "## Multiple Oscillators\n",
    "\n",
    "Many synthesizers have multiple oscillators, allowing for more complex and layered sounds.\n"
   ]
  },
  {
   "cell_type": "code",
   "execution_count": null,
   "id": "a2c6cbfb-0919-494e-bc59-69222f8e980d",
   "metadata": {},
   "outputs": [],
   "source": [
    "sine_wave = get_sine_wave(440, 0.5, duration)\n",
    "saw_wave = get_sawtooth_wave(300, 0.1, duration)"
   ]
  },
  {
   "cell_type": "markdown",
   "id": "f83a4005-d161-4af9-9ef7-9c4542fe3548",
   "metadata": {},
   "source": [
    "**Addition**"
   ]
  },
  {
   "cell_type": "code",
   "execution_count": null,
   "id": "d6c77ae8-0e3c-45a5-9f50-89c108556d7c",
   "metadata": {},
   "outputs": [],
   "source": [
    "# Combine the waveforms\n",
    "combined = sine_wave + saw_wave\n",
    "plt.plot(combined[:1000])"
   ]
  },
  {
   "cell_type": "code",
   "execution_count": null,
   "id": "1b8d3a62-0ddd-482d-9967-f7df50d5208c",
   "metadata": {},
   "outputs": [],
   "source": [
    "ipd.Audio(combined, rate=sample_rate)"
   ]
  },
  {
   "cell_type": "markdown",
   "id": "4db27a85-867c-4839-a270-1ee7512063d8",
   "metadata": {},
   "source": [
    "Linear combination that results in a waveform that preserves the fundamental frequencies of both waves which means you hear both waves playing simultaneously, but as a single coherent sound rather than two separate sounds\n"
   ]
  },
  {
   "cell_type": "markdown",
   "id": "f205fe89-b4b5-4603-9ed0-28a9afc8ddf0",
   "metadata": {},
   "source": [
    "## [E] Try other operations"
   ]
  },
  {
   "cell_type": "code",
   "execution_count": null,
   "id": "a2ef85fc-4edc-4e6e-8463-1f8a6bfc8bec",
   "metadata": {},
   "outputs": [],
   "source": []
  },
  {
   "cell_type": "code",
   "execution_count": null,
   "id": "6a288046-3607-4b11-a9b3-0ca2637e28f1",
   "metadata": {},
   "outputs": [],
   "source": []
  },
  {
   "cell_type": "markdown",
   "id": "cab31b2d-b43f-4afb-a639-069557e39600",
   "metadata": {},
   "source": [
    "**Non Linear Operations**\n",
    "\n",
    "By running Non-Linear operations that are not add/subtract you can create new frequencies that weren't present in either original wave. This takes us to our next topic **Modulation**\n",
    "\n",
    "PS: Multiplication of waveforms creates what's known as \"ring modulation\" or \"amplitude modulation\" depending on the frequencies involved\n",
    "\n",
    "Here are some more complex modulations"
   ]
  },
  {
   "cell_type": "code",
   "execution_count": null,
   "id": "ea0fb4a9-253a-4e55-87ed-1ad189256696",
   "metadata": {},
   "outputs": [],
   "source": [
    "combined_modulo = sine_wave % saw_wave\n",
    "ipd.Audio(combined_modulo, rate=sample_rate)\n",
    "# bit-crushing sounds due to Aliasing/ Harmonic folding"
   ]
  },
  {
   "cell_type": "code",
   "execution_count": null,
   "id": "cab59054-9b83-406a-9169-76d3063ab0bb",
   "metadata": {},
   "outputs": [],
   "source": [
    "combined_power = sine_wave ** saw_wave\n",
    "ipd.Audio(combined_power, rate=sample_rate)\n",
    "# # Extreme non-linear distortion"
   ]
  },
  {
   "cell_type": "markdown",
   "id": "e29ac166-764d-43e6-8e9d-b6a85f9a5313",
   "metadata": {},
   "source": [
    "Things to try out: Min/Max, Trigonometric functions, Polynomials etc.."
   ]
  }
 ],
 "metadata": {
  "kernelspec": {
   "display_name": "Python 3 (ipykernel)",
   "language": "python",
   "name": "python3"
  },
  "language_info": {
   "codemirror_mode": {
    "name": "ipython",
    "version": 3
   },
   "file_extension": ".py",
   "mimetype": "text/x-python",
   "name": "python",
   "nbconvert_exporter": "python",
   "pygments_lexer": "ipython3",
   "version": "3.11.11"
  }
 },
 "nbformat": 4,
 "nbformat_minor": 5
}
