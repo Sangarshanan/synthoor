{
 "cells": [
  {
   "cell_type": "code",
   "execution_count": 7,
   "id": "2cd7111f",
   "metadata": {},
   "outputs": [
    {
     "name": "stdout",
     "output_type": "stream",
     "text": [
      "The autoreload extension is already loaded. To reload it, use:\n",
      "  %reload_ext autoreload\n"
     ]
    }
   ],
   "source": [
    "from synthoor import GatedSound, Envelope, Oscillator, LatencyGate, ButterFilter\n",
    "%load_ext autoreload\n",
    "%autoreload 2"
   ]
  },
  {
   "cell_type": "code",
   "execution_count": 8,
   "id": "d719eae7",
   "metadata": {},
   "outputs": [],
   "source": [
    "class TB303(GatedSound):\n",
    "\n",
    "    def __init__(self):\n",
    "\n",
    "        super().__init__()\n",
    "\n",
    "        self.env0 = Envelope(0.05, 0., 1., 0.01)\n",
    "        self.env1 = Envelope(0., 1., 0., 0., linear=False)\n",
    "\n",
    "        self.osc0 = Oscillator('sawtooth')\n",
    "\n",
    "        self.filter = ButterFilter(btype='lowpass')\n",
    "\n",
    "    def forward(self):\n",
    "\n",
    "        g0 = self.gate()\n",
    "\n",
    "        e0 = self.env0(g0)\n",
    "        e1 = self.env1(g0, decay=1) * 12 * 8\n",
    "\n",
    "        a0 = self.osc0(freq=self.freq)\n",
    "\n",
    "        a1 = self.filter(\n",
    "            a0,\n",
    "            key_modulation=e1,\n",
    "            freq=self.freq,\n",
    "        )\n",
    "\n",
    "        return a1 * e0"
   ]
  },
  {
   "cell_type": "code",
   "execution_count": 9,
   "id": "26d6d085",
   "metadata": {},
   "outputs": [],
   "source": [
    "t = TB303()\n",
    "t.play(\n",
    "    duration=1\n",
    ")"
   ]
  },
  {
   "cell_type": "code",
   "execution_count": null,
   "id": "3d454ea1",
   "metadata": {},
   "outputs": [],
   "source": []
  },
  {
   "cell_type": "code",
   "execution_count": null,
   "id": "a9888cd1",
   "metadata": {},
   "outputs": [],
   "source": []
  }
 ],
 "metadata": {
  "kernelspec": {
   "display_name": "Python 3 (ipykernel)",
   "language": "python",
   "name": "python3"
  },
  "language_info": {
   "codemirror_mode": {
    "name": "ipython",
    "version": 3
   },
   "file_extension": ".py",
   "mimetype": "text/x-python",
   "name": "python",
   "nbconvert_exporter": "python",
   "pygments_lexer": "ipython3",
   "version": "3.8.19"
  }
 },
 "nbformat": 4,
 "nbformat_minor": 5
}
