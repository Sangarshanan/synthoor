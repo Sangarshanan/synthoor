{
 "cells": [
  {
   "cell_type": "code",
   "execution_count": null,
   "id": "2cd7111f",
   "metadata": {
    "vscode": {
     "languageId": "python"
    }
   },
   "outputs": [],
   "source": [
    "import sounddevice as sd\n",
    "import matplotlib.pyplot as plt\n",
    "\n",
    "from synthoor import GatedSound, Envelope, Oscillator, LatencyGate, ButterFilter\n",
    "%load_ext autoreload\n",
    "%autoreload 2"
   ]
  },
  {
   "cell_type": "markdown",
   "id": "a0cb1424",
   "metadata": {},
   "source": [
    "### Oscillator"
   ]
  },
  {
   "cell_type": "code",
   "execution_count": null,
   "id": "e5f31c22",
   "metadata": {
    "vscode": {
     "languageId": "python"
    }
   },
   "outputs": [],
   "source": [
    "osc0 = Oscillator('sine')\n",
    "osc_play = osc0(freq = 200)\n",
    "sd.play(osc_play)"
   ]
  },
  {
   "cell_type": "code",
   "execution_count": null,
   "id": "b154c50b",
   "metadata": {
    "vscode": {
     "languageId": "python"
    }
   },
   "outputs": [],
   "source": [
    "plt.plot(osc0(freq = 10))"
   ]
  },
  {
   "cell_type": "markdown",
   "id": "939c7c08",
   "metadata": {},
   "source": [
    "### Frequency Modulation"
   ]
  },
  {
   "cell_type": "code",
   "execution_count": null,
   "id": "0629aa8f",
   "metadata": {
    "vscode": {
     "languageId": "python"
    }
   },
   "outputs": [],
   "source": [
    "modulate_osc = osc0(freq=5)\n",
    "osc1 = Oscillator('sine')\n",
    "modulated_osc = osc1(modulate_osc, freq=300)\n",
    "sd.play(modulated_osc)"
   ]
  },
  {
   "cell_type": "code",
   "execution_count": null,
   "id": "262626ee",
   "metadata": {
    "vscode": {
     "languageId": "python"
    }
   },
   "outputs": [],
   "source": [
    "osc0 = Oscillator('sine', 100)\n",
    "osc1 = Oscillator('sine', 1000)\n",
    "a0 = osc0() * 12\n",
    "a1 = osc1(a0)\n",
    "plt.plot(a1[:1000])"
   ]
  },
  {
   "cell_type": "markdown",
   "id": "eb308653",
   "metadata": {},
   "source": [
    "### ASDR Envelope"
   ]
  },
  {
   "cell_type": "code",
   "execution_count": null,
   "id": "c59c6b7f",
   "metadata": {
    "vscode": {
     "languageId": "python"
    }
   },
   "outputs": [],
   "source": [
    "frames = 50000\n",
    "gate = LatencyGate()\n",
    "osc_sine = osc0(\n",
    "    freq = 300,\n",
    "    frames=frames\n",
    ")\n",
    "asdr = Envelope(\n",
    "    attack=0.4, \n",
    "    decay=0.1,\n",
    "    sustain=0.5,\n",
    "    release=0.5\n",
    ")\n",
    "gate.open(dt=0.1)\n",
    "gate.close(dt=0.5)\n",
    "g0 = gate(frames=frames)\n",
    "enveloped_wave = osc_sine * asdr(g0)\n",
    "sd.play(enveloped_wave)"
   ]
  },
  {
   "cell_type": "code",
   "execution_count": null,
   "id": "b408318e",
   "metadata": {
    "vscode": {
     "languageId": "python"
    }
   },
   "outputs": [],
   "source": [
    "plt.plot(enveloped_wave)"
   ]
  },
  {
   "cell_type": "markdown",
   "id": "5c3566f1",
   "metadata": {},
   "source": [
    "### Butter Filter\n",
    "The Butterworth filter is a type of signal processing filter designed to have a frequency response that is as flat as possible in the passband. It is also referred to as a maximally flat magnitude filter. It is based on the notion that \n",
    "\n",
    "> **An ideal electrical filter should not only completely reject the unwanted frequencies but should also have uniform sensitivity for the wanted frequencies**"
   ]
  },
  {
   "cell_type": "code",
   "execution_count": null,
   "id": "b231f6ef",
   "metadata": {
    "vscode": {
     "languageId": "python"
    }
   },
   "outputs": [],
   "source": [
    "osc_sine = osc0(\n",
    "    freq = 600,\n",
    ")\n",
    "bfilter = ButterFilter(\n",
    "    freq=200,\n",
    "    btype='lowpass'\n",
    ")\n",
    "filtered_wave = bfilter(osc_sine)\n",
    "sd.play(filtered_wave)"
   ]
  },
  {
   "cell_type": "code",
   "execution_count": null,
   "id": "a457eddb",
   "metadata": {
    "vscode": {
     "languageId": "python"
    }
   },
   "outputs": [],
   "source": [
    "plt.plot(filtered_wave[:1000])"
   ]
  },
  {
   "cell_type": "markdown",
   "id": "bdf1fe83",
   "metadata": {},
   "source": [
    "### Programming Synthesizers"
   ]
  },
  {
   "cell_type": "code",
   "execution_count": null,
   "id": "5a7133c4",
   "metadata": {
    "vscode": {
     "languageId": "python"
    }
   },
   "outputs": [],
   "source": [
    "class SimpleSynth(GatedSound):\n",
    "\n",
    "    def __init__(self):\n",
    "\n",
    "        super().__init__()\n",
    "\n",
    "        self.osc0 = Oscillator('sine')\n",
    "\n",
    "    def forward(self):\n",
    "        \n",
    "        g0 = self.gate()\n",
    "        a0 = self.osc0()\n",
    "\n",
    "        return a0 * g0\n",
    "\n",
    "s = SimpleSynth()\n",
    "s.play(\n",
    "    duration=0.5\n",
    ")"
   ]
  },
  {
   "cell_type": "markdown",
   "id": "afc327ca",
   "metadata": {},
   "source": [
    "### TB303: Acid Synth"
   ]
  },
  {
   "cell_type": "code",
   "execution_count": null,
   "id": "d719eae7",
   "metadata": {
    "vscode": {
     "languageId": "python"
    }
   },
   "outputs": [],
   "source": [
    "class TB303(GatedSound):\n",
    "\n",
    "    def __init__(self):\n",
    "\n",
    "        super().__init__()\n",
    "\n",
    "        self.env0 = Envelope(0.05, 0., 1., 0.01)\n",
    "        self.env1 = Envelope(0., 1., 0., 0., linear=False)\n",
    "\n",
    "        self.osc0 = Oscillator('saw')\n",
    "\n",
    "        self.filter = ButterFilter(btype='lowpass')\n",
    "\n",
    "    def forward(self):\n",
    "\n",
    "        g0 = self.gate()\n",
    "\n",
    "        e0 = self.env0(g0)\n",
    "        e1 = self.env1(g0, decay=1) * 12 * 10\n",
    "\n",
    "        a0 = self.osc0(freq=self.freq)\n",
    "\n",
    "        a1 = self.filter(\n",
    "            a0,\n",
    "            key_modulation=e1,\n",
    "            freq=self.freq,\n",
    "        )\n",
    "\n",
    "        return a1 * e0\n",
    "    \n",
    "t = TB303()\n",
    "t.play(\n",
    "    note=60,\n",
    ")"
   ]
  },
  {
   "cell_type": "markdown",
   "id": "3ca842a0-d260-459f-817c-7c84486b4f90",
   "metadata": {},
   "source": [
    "## Wobbler (Experimental synth that wobbles)"
   ]
  },
  {
   "cell_type": "code",
   "execution_count": null,
   "id": "bb7bd29e-5725-4d8b-bced-e74eae3066a9",
   "metadata": {
    "vscode": {
     "languageId": "python"
    }
   },
   "outputs": [],
   "source": [
    "import math\n",
    "import numpy as np\n",
    "from synthoor.config import FPS\n",
    "\n",
    "class Wobbler(GatedSound):\n",
    "    def __init__(self):\n",
    "        super().__init__()\n",
    "        # Oscillator\n",
    "        self.osc = Oscillator(\"square\")\n",
    "\n",
    "        # Filter - Low-pass with some resonance (adjust db for resonance)\n",
    "        self.filter = ButterFilter(btype=\"lowpass\", freq=1000, db=12) # Lower freq, some resonance\n",
    "        self.filter_cutoff_env_amount = 12 * 6  # Modulation depth in semitones\n",
    "        self.wobble_rate = 5  # Hz - Speed of the wobble\n",
    "        self.wobble_depth = 12 * 2 # Semitones - Amount of wobble\n",
    "\n",
    "        # Amplitude Envelope (ADSR) - Medium attack/release\n",
    "        self.amp_env = Envelope(attack=0.1, decay=0.3, sustain=0.6, release=0.7)\n",
    "        # Filter Envelope (ADSR) - Faster attack, controls filter sweep\n",
    "        self.filter_env = Envelope(attack=0.05, decay=0.5, sustain=0.2, release=1.0)\n",
    "\n",
    "        # Internal state for wobble LFO phase\n",
    "        self._wobble_phase = 0.0\n",
    "\n",
    "    def forward(self):\n",
    "        # Gate signal\n",
    "        gate_signal = self.gate()\n",
    "\n",
    "        # Amplitude Envelope\n",
    "        amp_mod = self.amp_env(gate_signal)\n",
    "\n",
    "        # Filter Envelope modulation amount\n",
    "        filter_env_mod = self.filter_env(gate_signal) * self.filter_cutoff_env_amount\n",
    "\n",
    "        # Generate time vector for the frame buffer\n",
    "        t = (self.index + np.arange(self.frames)) / FPS\n",
    "        # Calculate wobble modulation using sine wave based on time\n",
    "        wobble_lfo = np.sin(2 * math.pi * self.wobble_rate * t + self._wobble_phase) * self.wobble_depth\n",
    "        # Update phase for next buffer - not perfect but gives continuous feel\n",
    "        self._wobble_phase = (2 * math.pi * self.wobble_rate * (self.index + self.frames) / FPS) % (2 * math.pi)\n",
    "\n",
    "\n",
    "        # Combine filter envelope and wobble LFO for filter modulation\n",
    "        # Let's average the LFO over the frame\n",
    "        avg_wobble_lfo = np.mean(wobble_lfo) # Simpler approach\n",
    "        total_filter_mod = filter_env_mod + avg_wobble_lfo # Add wobble to envelope mod\n",
    "\n",
    "        # Oscillator output\n",
    "        osc_output = self.osc(freq=self.freq)\n",
    "\n",
    "        # Apply filter with combined envelope and LFO modulation\n",
    "        filtered_sound = self.filter(osc_output, key_modulation=total_filter_mod)\n",
    "\n",
    "        output_signal = filtered_sound * amp_mod\n",
    "\n",
    "        return output_signal\n",
    "\n",
    "    def reset(self, shared=False):\n",
    "        super().reset(shared)\n",
    "        self._wobble_phase = 0.0\n",
    "\n",
    "t = Wobbler()\n",
    "t.play(\n",
    "    note=40,\n",
    "    duration=0.4\n",
    ")"
   ]
  },
  {
   "cell_type": "markdown",
   "id": "14b33030-13e7-4304-b362-64ce34ff8004",
   "metadata": {},
   "source": [
    "## Listen to MIDI"
   ]
  },
  {
   "cell_type": "code",
   "execution_count": null,
   "id": "3d45a09f-a38b-42a8-b565-55f1516d76c4",
   "metadata": {
    "vscode": {
     "languageId": "python"
    }
   },
   "outputs": [],
   "source": [
    "import mido\n",
    "print(mido.get_input_names())"
   ]
  },
  {
   "cell_type": "code",
   "execution_count": null,
   "id": "c4575c9a",
   "metadata": {
    "vscode": {
     "languageId": "python"
    }
   },
   "outputs": [],
   "source": [
    "import mido\n",
    "import time\n",
    "\n",
    "# MIDI listening logic\n",
    "def listen_to_midi(port_name):\n",
    "    try:\n",
    "        with mido.open_input(port_name) as inport:\n",
    "            print(f\"Listening for MIDI messages on {port_name}...\")\n",
    "            for msg in inport:\n",
    "                print(msg) # Print the received message\n",
    "                if msg.type == 'note_on' and msg.velocity > 0:\n",
    "                    s = TB303()\n",
    "                    print(f\"Playing note: {msg.note}, velocity: {msg.velocity}\")\n",
    "                    s.play(note=msg.note, velocity=msg.velocity, duration=1) # Fixed 0.5 second duration\n",
    "    except OSError as e:\n",
    "        print(f\"Error opening MIDI port '{port_name}': {e}\")\n",
    "        print(\"Please ensure the MIDI device is connected and the port name is correct.\")\n",
    "        print(\"Available ports:\", mido.get_input_names())\n",
    "    except KeyboardInterrupt:\n",
    "        print(\"\\nStopping MIDI listener.\")\n",
    "    except Exception as e:\n",
    "        print(f\"An unexpected error occurred: {e}\")\n",
    "\n",
    "available_ports = mido.get_input_names()\n",
    "target_port = \"Minilab3 MIDI\"\n",
    "listen_to_midi(target_port)"
   ]
  },
  {
   "cell_type": "code",
   "execution_count": null,
   "id": "87cc6e27-fe00-4da1-b5d1-02502498654f",
   "metadata": {},
   "outputs": [],
   "source": []
  }
 ],
 "metadata": {
  "kernelspec": {
   "display_name": "Python 3 (ipykernel)",
   "language": "python",
   "name": "python3"
  },
  "language_info": {
   "codemirror_mode": {
    "name": "ipython",
    "version": 3
   },
   "file_extension": ".py",
   "mimetype": "text/x-python",
   "name": "python",
   "nbconvert_exporter": "python",
   "pygments_lexer": "ipython3",
   "version": "3.11.11"
  }
 },
 "nbformat": 4,
 "nbformat_minor": 5
}
